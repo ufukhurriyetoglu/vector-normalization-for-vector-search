{
  "nbformat": 4,
  "nbformat_minor": 0,
  "metadata": {
    "colab": {
      "provenance": [],
      "authorship_tag": "ABX9TyOLJMv/TtDy+6bJULdv3xec",
      "include_colab_link": true
    },
    "kernelspec": {
      "name": "python3",
      "display_name": "Python 3"
    },
    "language_info": {
      "name": "python"
    }
  },
  "cells": [
    {
      "cell_type": "markdown",
      "metadata": {
        "id": "view-in-github",
        "colab_type": "text"
      },
      "source": [
        "<a href=\"https://colab.research.google.com/github/ufukhurriyetoglu/vector-normalization-for-vector-search/blob/main/vector_search.ipynb\" target=\"_parent\"><img src=\"https://colab.research.google.com/assets/colab-badge.svg\" alt=\"Open In Colab\"/></a>"
      ]
    },
    {
      "cell_type": "code",
      "execution_count": 1,
      "metadata": {
        "colab": {
          "base_uri": "https://localhost:8080/"
        },
        "id": "thBkVm3NMzmv",
        "outputId": "c1fc947c-41d2-4e6a-bbdb-0a316fc03c70"
      },
      "outputs": [
        {
          "output_type": "stream",
          "name": "stdout",
          "text": [
            "Collecting annoy\n",
            "  Downloading annoy-1.17.3.tar.gz (647 kB)\n",
            "\u001b[2K     \u001b[90m━━━━━━━━━━━━━━━━━━━━━━━━━━━━━━━━━━━━━━━\u001b[0m \u001b[32m647.5/647.5 kB\u001b[0m \u001b[31m6.0 MB/s\u001b[0m eta \u001b[36m0:00:00\u001b[0m\n",
            "\u001b[?25h  Preparing metadata (setup.py) ... \u001b[?25l\u001b[?25hdone\n",
            "Building wheels for collected packages: annoy\n",
            "  Building wheel for annoy (setup.py) ... \u001b[?25l\u001b[?25hdone\n",
            "  Created wheel for annoy: filename=annoy-1.17.3-cp310-cp310-linux_x86_64.whl size=552446 sha256=cf626a46021c5e9b5a23282740b341bd70b624fe0a438f5ddf46ff56f899b915\n",
            "  Stored in directory: /root/.cache/pip/wheels/64/8a/da/f714bcf46c5efdcfcac0559e63370c21abe961c48e3992465a\n",
            "Successfully built annoy\n",
            "Installing collected packages: annoy\n",
            "Successfully installed annoy-1.17.3\n"
          ]
        }
      ],
      "source": [
        "!pip install --user annoy"
      ]
    },
    {
      "cell_type": "code",
      "source": [
        "from annoy import AnnoyIndex\n",
        "import random\n",
        "\n",
        "f = 40  # Length of item vector that will be indexed\n",
        "\n",
        "t = AnnoyIndex(f, 'angular')\n",
        "for i in range(1000):\n",
        "    v = [random.gauss(0, 1) for z in range(f)]\n",
        "    t.add_item(i, v)\n",
        "\n",
        "t.build(10) # 10 trees\n",
        "t.save('test.ann')\n",
        "\n",
        "u = AnnoyIndex(f, 'angular')\n",
        "u.load('test.ann') # super fast, will just mmap the file\n",
        "print(u.get_nns_by_item(0, 15)) # will find the 1000 nearest neighbors"
      ],
      "metadata": {
        "colab": {
          "base_uri": "https://localhost:8080/"
        },
        "id": "0d4GTwX_NVyJ",
        "outputId": "82e46a2f-3be5-4e0f-9c60-331c46c9110c"
      },
      "execution_count": 1,
      "outputs": [
        {
          "output_type": "stream",
          "name": "stdout",
          "text": [
            "[0, 374, 638, 650, 123, 977, 755, 300, 796, 49, 840, 412, 314, 105, 37]\n"
          ]
        }
      ]
    },
    {
      "cell_type": "code",
      "source": [
        "t.get_item_vector(0)"
      ],
      "metadata": {
        "colab": {
          "base_uri": "https://localhost:8080/"
        },
        "id": "uy5c8RrrNoMf",
        "outputId": "936c8560-78c7-49ef-c16e-42a7fef6a0ae"
      },
      "execution_count": 2,
      "outputs": [
        {
          "output_type": "execute_result",
          "data": {
            "text/plain": [
              "[-0.18866823613643646,\n",
              " -0.9645815491676331,\n",
              " 0.34515419602394104,\n",
              " -0.28188851475715637,\n",
              " -1.2084115743637085,\n",
              " 0.7380104660987854,\n",
              " 0.569412887096405,\n",
              " 0.4931466281414032,\n",
              " -3.1470351219177246,\n",
              " 0.8047766089439392,\n",
              " 1.1071109771728516,\n",
              " 0.7642222046852112,\n",
              " -0.07716409862041473,\n",
              " 1.2649691104888916,\n",
              " 1.161159634590149,\n",
              " 0.8700860738754272,\n",
              " -0.17273437976837158,\n",
              " 0.4998491406440735,\n",
              " -0.21158505976200104,\n",
              " -0.13357938826084137,\n",
              " 0.7548620104789734,\n",
              " 0.93825763463974,\n",
              " -0.4266389310359955,\n",
              " -1.2948094606399536,\n",
              " -1.066059947013855,\n",
              " 1.5857605934143066,\n",
              " -0.4173220098018646,\n",
              " 0.9549368023872375,\n",
              " -1.4187403917312622,\n",
              " -0.46681803464889526,\n",
              " -2.10677433013916,\n",
              " -0.5007885098457336,\n",
              " -0.13498055934906006,\n",
              " 1.5397776365280151,\n",
              " 1.5640982389450073,\n",
              " -0.551122784614563,\n",
              " -1.5541023015975952,\n",
              " -1.4084750413894653,\n",
              " -0.5537386536598206,\n",
              " -0.04934476688504219]"
            ]
          },
          "metadata": {},
          "execution_count": 2
        }
      ]
    },
    {
      "cell_type": "code",
      "source": [
        "t.get_item_vector(777)"
      ],
      "metadata": {
        "colab": {
          "base_uri": "https://localhost:8080/"
        },
        "id": "dp8LX-DhN7Rq",
        "outputId": "1551fe6c-b472-452e-9968-21fe09224453"
      },
      "execution_count": 3,
      "outputs": [
        {
          "output_type": "execute_result",
          "data": {
            "text/plain": [
              "[1.101402997970581,\n",
              " -1.0245754718780518,\n",
              " -0.44516441226005554,\n",
              " -0.44058334827423096,\n",
              " -0.4735833704471588,\n",
              " 0.2958965003490448,\n",
              " -1.3189730644226074,\n",
              " 0.708330512046814,\n",
              " -0.2142573893070221,\n",
              " 0.10182296484708786,\n",
              " -0.5372434854507446,\n",
              " -0.9184718728065491,\n",
              " 0.9615828990936279,\n",
              " -1.2419862747192383,\n",
              " 0.49988481402397156,\n",
              " -0.31989043951034546,\n",
              " 1.4256510734558105,\n",
              " 0.14656339585781097,\n",
              " -0.3560389578342438,\n",
              " -1.1493494510650635,\n",
              " 0.9224896430969238,\n",
              " 1.497171401977539,\n",
              " -0.585648238658905,\n",
              " -0.4694666564464569,\n",
              " 1.7036086320877075,\n",
              " -0.7013132572174072,\n",
              " 0.03552623838186264,\n",
              " -0.5104782581329346,\n",
              " -0.40729066729545593,\n",
              " 1.018438458442688,\n",
              " -0.08560502529144287,\n",
              " -1.221710443496704,\n",
              " -1.39047110080719,\n",
              " 0.6960083842277527,\n",
              " -0.4867105484008789,\n",
              " 0.19080452620983124,\n",
              " -1.105360507965088,\n",
              " 1.6838734149932861,\n",
              " 0.6841000914573669,\n",
              " 0.32218262553215027]"
            ]
          },
          "metadata": {},
          "execution_count": 3
        }
      ]
    },
    {
      "cell_type": "markdown",
      "source": [
        "Does not provide much intuition, lets consider a smaller subset of vectors"
      ],
      "metadata": {
        "id": "sV3yp1rcOKZy"
      }
    },
    {
      "cell_type": "code",
      "source": [
        "vectors = [\n",
        "    [0.3, 0.4],\n",
        "    [3.1, 4.2],\n",
        "    [4.0, 3.0],\n",
        "    [4.0, 5.0],\n",
        "    [8.0, 10.0],\n",
        "    [6.1, 8.1],\n",
        "    [15.2, 20.3],\n",
        "    [18.2, 24.3],\n",
        "    [36.5, 48.3]\n",
        "]"
      ],
      "metadata": {
        "id": "qeOOkcjNOD-D"
      },
      "execution_count": 55,
      "outputs": []
    },
    {
      "cell_type": "code",
      "source": [
        "# lets create the annoy index for vectors collection"
      ],
      "metadata": {
        "id": "sZjzq11sOu3i"
      },
      "execution_count": 56,
      "outputs": []
    },
    {
      "cell_type": "code",
      "source": [
        "length_of_vector = 2"
      ],
      "metadata": {
        "id": "KQk5Kh2VPBKu"
      },
      "execution_count": 57,
      "outputs": []
    },
    {
      "cell_type": "code",
      "source": [
        "t_angular = AnnoyIndex(length_of_vector, 'angular')\n",
        "t_euclidean = AnnoyIndex(length_of_vector, 'euclidean')"
      ],
      "metadata": {
        "id": "8oSvL7gIO0kf"
      },
      "execution_count": 58,
      "outputs": []
    },
    {
      "cell_type": "code",
      "source": [
        "for i, vector in enumerate(vectors):\n",
        "  t_angular.add_item(i, vector)\n",
        "  t_euclidean.add_item(i, vector)"
      ],
      "metadata": {
        "id": "DuWf7UaBPFon"
      },
      "execution_count": 59,
      "outputs": []
    },
    {
      "cell_type": "code",
      "source": [
        "t_angular.build(3) # 10 trees\n",
        "t_angular.save('test_angular.ann')\n",
        "\n",
        "u_angular = AnnoyIndex(length_of_vector, 'angular')\n",
        "u_angular.load('test_angular.ann')"
      ],
      "metadata": {
        "colab": {
          "base_uri": "https://localhost:8080/"
        },
        "id": "QoCyPoDoP8qV",
        "outputId": "e04da84d-6115-4d45-f639-4ef7582a3db4"
      },
      "execution_count": 60,
      "outputs": [
        {
          "output_type": "execute_result",
          "data": {
            "text/plain": [
              "True"
            ]
          },
          "metadata": {},
          "execution_count": 60
        }
      ]
    },
    {
      "cell_type": "code",
      "source": [
        "t_euclidean.build(3) # 10 trees\n",
        "t_euclidean.save('test_euclidean.ann')\n",
        "\n",
        "u_euclidean = AnnoyIndex(length_of_vector, 'euclidean')\n",
        "u_euclidean.load('test_euclidean.ann')"
      ],
      "metadata": {
        "colab": {
          "base_uri": "https://localhost:8080/"
        },
        "id": "eB9EUdYpPP6g",
        "outputId": "35279061-b4a2-4f11-8224-d4c498cb83fb"
      },
      "execution_count": 61,
      "outputs": [
        {
          "output_type": "execute_result",
          "data": {
            "text/plain": [
              "True"
            ]
          },
          "metadata": {},
          "execution_count": 61
        }
      ]
    },
    {
      "cell_type": "code",
      "source": [
        "counter = 0\n",
        "print(\"For the vector [0.3, 0.4]\")\n",
        "for item_index in u_angular.get_nns_by_item(0, 5):\n",
        "  print(f\"{counter}th  neighbor: \")\n",
        "  print(vectors[item_index])\n",
        "  counter+=1\n",
        "  print()"
      ],
      "metadata": {
        "colab": {
          "base_uri": "https://localhost:8080/"
        },
        "id": "cakN9_wlQk1x",
        "outputId": "f2033434-f0b7-4b05-df7b-362bce92fa62"
      },
      "execution_count": 62,
      "outputs": [
        {
          "output_type": "stream",
          "name": "stdout",
          "text": [
            "For the vector [0.3, 0.4]\n",
            "0th  neighbor: \n",
            "[0.3, 0.4]\n",
            "\n",
            "1th  neighbor: \n",
            "[18.2, 24.3]\n",
            "\n",
            "2th  neighbor: \n",
            "[15.2, 20.3]\n",
            "\n",
            "3th  neighbor: \n",
            "[6.1, 8.1]\n",
            "\n",
            "4th  neighbor: \n",
            "[36.5, 48.3]\n",
            "\n"
          ]
        }
      ]
    },
    {
      "cell_type": "code",
      "source": [
        "counter = 0\n",
        "print(\"For the vector [0.3, 0.4]\")\n",
        "for item_index in u_euclidean.get_nns_by_item(0, 5):\n",
        "  print(f\"{counter}th  neighbor: \")\n",
        "  print(vectors[item_index])\n",
        "  counter+=1\n",
        "  print()"
      ],
      "metadata": {
        "colab": {
          "base_uri": "https://localhost:8080/"
        },
        "id": "dR1ovqCPS535",
        "outputId": "4eb71162-aaed-4460-90ea-e66a6aedb7c6"
      },
      "execution_count": 63,
      "outputs": [
        {
          "output_type": "stream",
          "name": "stdout",
          "text": [
            "For the vector [0.3, 0.4]\n",
            "0th  neighbor: \n",
            "[0.3, 0.4]\n",
            "\n",
            "1th  neighbor: \n",
            "[4.0, 3.0]\n",
            "\n",
            "2th  neighbor: \n",
            "[3.1, 4.2]\n",
            "\n",
            "3th  neighbor: \n",
            "[4.0, 5.0]\n",
            "\n",
            "4th  neighbor: \n",
            "[6.1, 8.1]\n",
            "\n"
          ]
        }
      ]
    },
    {
      "cell_type": "code",
      "source": [
        "## Lets see what happens after normalization\n",
        "\n",
        "# we will use L2-normalization first"
      ],
      "metadata": {
        "id": "SYj-aGd3UA7y"
      },
      "execution_count": 65,
      "outputs": []
    },
    {
      "cell_type": "code",
      "source": [
        "import numpy as np"
      ],
      "metadata": {
        "id": "PNfN2xT0UQpf"
      },
      "execution_count": 66,
      "outputs": []
    },
    {
      "cell_type": "markdown",
      "source": [
        "To normalize a vector, you can divide each element of the vector by its magnitude. This will result in a vector with a length or magnitude of 1, also known as a unit vector. Normalizing a vector preserves its original direction while adjusting its magnitude.\n",
        "\n",
        "Here's an example of how to normalize a vector using NumPy:"
      ],
      "metadata": {
        "id": "BIxCrhDzenHg"
      }
    },
    {
      "cell_type": "code",
      "source": [
        "\n",
        "\n",
        "# Create a vector\n",
        "vector = np.array([3, 4])\n"
      ],
      "metadata": {
        "id": "agsrUy4aeJeQ"
      },
      "execution_count": 68,
      "outputs": []
    },
    {
      "cell_type": "code",
      "source": [
        "# Calculate the magnitude of the vector\n",
        "magnitude = np.linalg.norm(vector)"
      ],
      "metadata": {
        "id": "f4yb-BXdevtx"
      },
      "execution_count": 69,
      "outputs": []
    },
    {
      "cell_type": "code",
      "source": [
        "magnitude"
      ],
      "metadata": {
        "colab": {
          "base_uri": "https://localhost:8080/"
        },
        "id": "A_CNVs6de3rf",
        "outputId": "ecbd6f5a-0a97-4344-cfe9-be3864ff8195"
      },
      "execution_count": 70,
      "outputs": [
        {
          "output_type": "execute_result",
          "data": {
            "text/plain": [
              "5.0"
            ]
          },
          "metadata": {},
          "execution_count": 70
        }
      ]
    },
    {
      "cell_type": "code",
      "source": [
        "# Normalize the vector\n",
        "normalized_vector = vector / magnitude\n",
        "\n",
        "print(\"Normalized Vector:\", normalized_vector)"
      ],
      "metadata": {
        "colab": {
          "base_uri": "https://localhost:8080/"
        },
        "id": "YEmya8LDe4xv",
        "outputId": "22900e7e-5ec7-4264-cc8b-e1350e885bf2"
      },
      "execution_count": 71,
      "outputs": [
        {
          "output_type": "stream",
          "name": "stdout",
          "text": [
            "Normalized Vector: [0.6 0.8]\n"
          ]
        }
      ]
    },
    {
      "cell_type": "code",
      "source": [
        "# lets create python functions to be able to observe better"
      ],
      "metadata": {
        "id": "HMfQgJN6e5lf"
      },
      "execution_count": 72,
      "outputs": []
    },
    {
      "cell_type": "code",
      "source": [
        "def calculate_magnitude(vector):\n",
        "  return np.linalg.norm(vector)"
      ],
      "metadata": {
        "id": "hu4p600ne_4g"
      },
      "execution_count": 73,
      "outputs": []
    },
    {
      "cell_type": "code",
      "source": [
        "calculate_magnitude([0.3, 0.4])"
      ],
      "metadata": {
        "colab": {
          "base_uri": "https://localhost:8080/"
        },
        "id": "rVrGNhIafIYf",
        "outputId": "8149586b-8e9c-4818-ae6a-c9ab9b61403b"
      },
      "execution_count": 75,
      "outputs": [
        {
          "output_type": "execute_result",
          "data": {
            "text/plain": [
              "0.5"
            ]
          },
          "metadata": {},
          "execution_count": 75
        }
      ]
    },
    {
      "cell_type": "code",
      "source": [
        "calculate_magnitude([18, 24])"
      ],
      "metadata": {
        "colab": {
          "base_uri": "https://localhost:8080/"
        },
        "id": "Sqe2K1J2fNmp",
        "outputId": "fbb60504-c31c-41de-9559-cad471ff57f8"
      },
      "execution_count": 76,
      "outputs": [
        {
          "output_type": "execute_result",
          "data": {
            "text/plain": [
              "30.0"
            ]
          },
          "metadata": {},
          "execution_count": 76
        }
      ]
    },
    {
      "cell_type": "code",
      "source": [
        "def normalize_vector(vector):\n",
        "  return vector / calculate_magnitude(vector)"
      ],
      "metadata": {
        "id": "lqH12yQKfUb5"
      },
      "execution_count": 77,
      "outputs": []
    },
    {
      "cell_type": "code",
      "source": [
        "normalize_vector([0.3, 0.4])"
      ],
      "metadata": {
        "colab": {
          "base_uri": "https://localhost:8080/"
        },
        "id": "6FaJaJftfm7f",
        "outputId": "c248b49f-9d56-43fd-bffd-b0b0202e57a9"
      },
      "execution_count": 78,
      "outputs": [
        {
          "output_type": "execute_result",
          "data": {
            "text/plain": [
              "array([0.6, 0.8])"
            ]
          },
          "metadata": {},
          "execution_count": 78
        }
      ]
    },
    {
      "cell_type": "code",
      "source": [
        "normalize_vector([18, 24])"
      ],
      "metadata": {
        "colab": {
          "base_uri": "https://localhost:8080/"
        },
        "id": "fh-jyO97fro5",
        "outputId": "e49b9e74-2481-414a-85f5-c2cde614d74a"
      },
      "execution_count": 79,
      "outputs": [
        {
          "output_type": "execute_result",
          "data": {
            "text/plain": [
              "array([0.6, 0.8])"
            ]
          },
          "metadata": {},
          "execution_count": 79
        }
      ]
    },
    {
      "cell_type": "code",
      "source": [
        "## !yay normalized forms are equal for [0.3, 0.4] and [18, 24], because both construct 3-4-5 triangle in terms of vector space"
      ],
      "metadata": {
        "id": "w3EnXX4ifw_q"
      },
      "execution_count": 80,
      "outputs": []
    },
    {
      "cell_type": "code",
      "source": [
        "# lets normalize the vectors collection"
      ],
      "metadata": {
        "id": "NVoLhXzxgC1_"
      },
      "execution_count": 81,
      "outputs": []
    },
    {
      "cell_type": "code",
      "source": [
        "normalized_vectors = [normalize_vector(vector) for vector in vectors]"
      ],
      "metadata": {
        "id": "IegkMYiKgK7v"
      },
      "execution_count": 82,
      "outputs": []
    },
    {
      "cell_type": "code",
      "source": [
        "normalized_vectors"
      ],
      "metadata": {
        "colab": {
          "base_uri": "https://localhost:8080/"
        },
        "id": "S8vomBpOgSG_",
        "outputId": "e0f4f67a-1afd-44b1-f52c-2ea5914d415f"
      },
      "execution_count": 83,
      "outputs": [
        {
          "output_type": "execute_result",
          "data": {
            "text/plain": [
              "[array([0.6, 0.8]),\n",
              " array([0.5938523 , 0.80457408]),\n",
              " array([0.8, 0.6]),\n",
              " array([0.62469505, 0.78086881]),\n",
              " array([0.62469505, 0.78086881]),\n",
              " array([0.60157674, 0.79881501]),\n",
              " array([0.5993689 , 0.80047294]),\n",
              " array([0.59947286, 0.80039508]),\n",
              " array([0.60290319, 0.79781436])]"
            ]
          },
          "metadata": {},
          "execution_count": 83
        }
      ]
    },
    {
      "cell_type": "code",
      "source": [
        "# lets write a modular annoy index builder\n",
        "\n",
        "def create_annoy_index(distance_metric, vector_length, vectors):\n",
        "  index_name = \"_\".join([\"index\", distance_metric])\n",
        "  annoy_index = AnnoyIndex(vector_length, distance_metric)\n",
        "  for i, vector in enumerate(vectors):\n",
        "    annoy_index.add_item(i, vector)\n",
        "  annoy_index.build(3)\n",
        "  annoy_index.save(index_name)\n",
        "  reloaded_annoy_index = AnnoyIndex(vector_length, distance_metric)\n",
        "  reloaded_annoy_index.load(index_name)\n",
        "  return reloaded_annoy_index"
      ],
      "metadata": {
        "id": "z1PJJ9mJgUUI"
      },
      "execution_count": 93,
      "outputs": []
    },
    {
      "cell_type": "code",
      "source": [
        "normalized_vectors_angular_distance_annoy_index = create_annoy_index(\"angular\", 2, normalized_vectors)\n",
        "original_vectors_angular_distance_annoy_index = create_annoy_index(\"angular\", 2, vectors)"
      ],
      "metadata": {
        "id": "uWkx3_-XiGbG"
      },
      "execution_count": 105,
      "outputs": []
    },
    {
      "cell_type": "code",
      "source": [
        "normalized_vectors_dot_distance_annoy_index = create_annoy_index(\"dot\", 2, normalized_vectors)\n",
        "original_vectors_dot_distance_annoy_index = create_annoy_index(\"dot\", 2, vectors)"
      ],
      "metadata": {
        "id": "tmagDTASjv6d"
      },
      "execution_count": 111,
      "outputs": []
    },
    {
      "cell_type": "code",
      "source": [
        "normalized_vectors_euclidean_distance_annoy_index = create_annoy_index(\"euclidean\", 2, normalized_vectors)\n",
        "original_vectors_euclidean_distance_annoy_index = create_annoy_index(\"euclidean\", 2, vectors)"
      ],
      "metadata": {
        "id": "Vp4djZraiQ_Y"
      },
      "execution_count": 106,
      "outputs": []
    },
    {
      "cell_type": "code",
      "source": [
        "original_vectors_angular_distance_annoy_index.get_nns_by_item(0, 5)"
      ],
      "metadata": {
        "colab": {
          "base_uri": "https://localhost:8080/"
        },
        "id": "cwXm40lJjTVh",
        "outputId": "5a91879e-533f-4ca9-b892-84fe0d779310"
      },
      "execution_count": 107,
      "outputs": [
        {
          "output_type": "execute_result",
          "data": {
            "text/plain": [
              "[0, 7, 6, 5, 8]"
            ]
          },
          "metadata": {},
          "execution_count": 107
        }
      ]
    },
    {
      "cell_type": "code",
      "source": [
        "normalized_vectors_angular_distance_annoy_index.get_nns_by_item(0, 5)"
      ],
      "metadata": {
        "colab": {
          "base_uri": "https://localhost:8080/"
        },
        "id": "BJ3btF4Pihon",
        "outputId": "353b28f7-fd18-4c6e-bfd7-207dc5cf7043"
      },
      "execution_count": 108,
      "outputs": [
        {
          "output_type": "execute_result",
          "data": {
            "text/plain": [
              "[0, 7, 6, 5, 8]"
            ]
          },
          "metadata": {},
          "execution_count": 108
        }
      ]
    },
    {
      "cell_type": "code",
      "source": [
        "normalized_vectors_euclidean_distance_annoy_index.get_nns_by_item(0, 5)"
      ],
      "metadata": {
        "colab": {
          "base_uri": "https://localhost:8080/"
        },
        "id": "coPIFdrsinwM",
        "outputId": "a46d8896-ce62-41cb-cb9d-3e43e1a7f989"
      },
      "execution_count": 109,
      "outputs": [
        {
          "output_type": "execute_result",
          "data": {
            "text/plain": [
              "[0, 7, 6, 5, 8]"
            ]
          },
          "metadata": {},
          "execution_count": 109
        }
      ]
    },
    {
      "cell_type": "code",
      "source": [
        "original_vectors_euclidean_distance_annoy_index.get_nns_by_item(0, 5)"
      ],
      "metadata": {
        "colab": {
          "base_uri": "https://localhost:8080/"
        },
        "id": "-hwurkggjBha",
        "outputId": "8edbabdb-8716-4e64-e4d2-b1fe06ed79ad"
      },
      "execution_count": 110,
      "outputs": [
        {
          "output_type": "execute_result",
          "data": {
            "text/plain": [
              "[0, 2, 1, 3, 5]"
            ]
          },
          "metadata": {},
          "execution_count": 110
        }
      ]
    },
    {
      "cell_type": "code",
      "source": [
        "original_vectors_dot_distance_annoy_index.get_nns_by_item(0, 5)"
      ],
      "metadata": {
        "colab": {
          "base_uri": "https://localhost:8080/"
        },
        "id": "CESPrd8ejgoE",
        "outputId": "5d15dc98-4bac-4b0b-e595-630420b2a0fe"
      },
      "execution_count": 112,
      "outputs": [
        {
          "output_type": "execute_result",
          "data": {
            "text/plain": [
              "[8, 7, 6, 4, 5]"
            ]
          },
          "metadata": {},
          "execution_count": 112
        }
      ]
    },
    {
      "cell_type": "code",
      "source": [
        "normalized_vectors_dot_distance_annoy_index.get_nns_by_item(0, 5)"
      ],
      "metadata": {
        "colab": {
          "base_uri": "https://localhost:8080/"
        },
        "id": "gj-SY5hij5lN",
        "outputId": "9f543c68-1d16-4e67-f655-5c28558a97ca"
      },
      "execution_count": 114,
      "outputs": [
        {
          "output_type": "execute_result",
          "data": {
            "text/plain": [
              "[0, 7, 6, 5, 8]"
            ]
          },
          "metadata": {},
          "execution_count": 114
        }
      ]
    },
    {
      "cell_type": "code",
      "source": [],
      "metadata": {
        "id": "FEQUeFp7j8hd"
      },
      "execution_count": null,
      "outputs": []
    }
  ]
}