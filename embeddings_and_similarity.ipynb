{
  "nbformat": 4,
  "nbformat_minor": 0,
  "metadata": {
    "colab": {
      "provenance": [],
      "authorship_tag": "ABX9TyOJI/G8tHWEh4Houem9sIoR",
      "include_colab_link": true
    },
    "kernelspec": {
      "name": "python3",
      "display_name": "Python 3"
    },
    "language_info": {
      "name": "python"
    },
    "widgets": {
      "application/vnd.jupyter.widget-state+json": {
        "bedd70b7073049e8bed1ff14a842c3e2": {
          "model_module": "@jupyter-widgets/controls",
          "model_name": "HBoxModel",
          "model_module_version": "1.5.0",
          "state": {
            "_dom_classes": [],
            "_model_module": "@jupyter-widgets/controls",
            "_model_module_version": "1.5.0",
            "_model_name": "HBoxModel",
            "_view_count": null,
            "_view_module": "@jupyter-widgets/controls",
            "_view_module_version": "1.5.0",
            "_view_name": "HBoxView",
            "box_style": "",
            "children": [
              "IPY_MODEL_638e98a6d7014a94a4d86e2cb6dbfbc3",
              "IPY_MODEL_0293abade70f4989bdb973537e255b08",
              "IPY_MODEL_b72c1482675c46cf96b1fafe18a096cc"
            ],
            "layout": "IPY_MODEL_5a41a5ecbbe94460900959765eac34e6"
          }
        },
        "638e98a6d7014a94a4d86e2cb6dbfbc3": {
          "model_module": "@jupyter-widgets/controls",
          "model_name": "HTMLModel",
          "model_module_version": "1.5.0",
          "state": {
            "_dom_classes": [],
            "_model_module": "@jupyter-widgets/controls",
            "_model_module_version": "1.5.0",
            "_model_name": "HTMLModel",
            "_view_count": null,
            "_view_module": "@jupyter-widgets/controls",
            "_view_module_version": "1.5.0",
            "_view_name": "HTMLView",
            "description": "",
            "description_tooltip": null,
            "layout": "IPY_MODEL_5a0b82647827424193a38dea388644a6",
            "placeholder": "​",
            "style": "IPY_MODEL_e338a6a129754b149e3d8d94c529799d",
            "value": "Downloading (…)okenizer_config.json: 100%"
          }
        },
        "0293abade70f4989bdb973537e255b08": {
          "model_module": "@jupyter-widgets/controls",
          "model_name": "FloatProgressModel",
          "model_module_version": "1.5.0",
          "state": {
            "_dom_classes": [],
            "_model_module": "@jupyter-widgets/controls",
            "_model_module_version": "1.5.0",
            "_model_name": "FloatProgressModel",
            "_view_count": null,
            "_view_module": "@jupyter-widgets/controls",
            "_view_module_version": "1.5.0",
            "_view_name": "ProgressView",
            "bar_style": "success",
            "description": "",
            "description_tooltip": null,
            "layout": "IPY_MODEL_5bc23327124541129c298f7754e3b382",
            "max": 489,
            "min": 0,
            "orientation": "horizontal",
            "style": "IPY_MODEL_347299eed12a44ca84ca838ee5890f2d",
            "value": 489
          }
        },
        "b72c1482675c46cf96b1fafe18a096cc": {
          "model_module": "@jupyter-widgets/controls",
          "model_name": "HTMLModel",
          "model_module_version": "1.5.0",
          "state": {
            "_dom_classes": [],
            "_model_module": "@jupyter-widgets/controls",
            "_model_module_version": "1.5.0",
            "_model_name": "HTMLModel",
            "_view_count": null,
            "_view_module": "@jupyter-widgets/controls",
            "_view_module_version": "1.5.0",
            "_view_name": "HTMLView",
            "description": "",
            "description_tooltip": null,
            "layout": "IPY_MODEL_4e79770338924313b4f17a7cc8e4548a",
            "placeholder": "​",
            "style": "IPY_MODEL_4c0b2c4afda0432fb8ea164b10798832",
            "value": " 489/489 [00:00&lt;00:00, 11.3kB/s]"
          }
        },
        "5a41a5ecbbe94460900959765eac34e6": {
          "model_module": "@jupyter-widgets/base",
          "model_name": "LayoutModel",
          "model_module_version": "1.2.0",
          "state": {
            "_model_module": "@jupyter-widgets/base",
            "_model_module_version": "1.2.0",
            "_model_name": "LayoutModel",
            "_view_count": null,
            "_view_module": "@jupyter-widgets/base",
            "_view_module_version": "1.2.0",
            "_view_name": "LayoutView",
            "align_content": null,
            "align_items": null,
            "align_self": null,
            "border": null,
            "bottom": null,
            "display": null,
            "flex": null,
            "flex_flow": null,
            "grid_area": null,
            "grid_auto_columns": null,
            "grid_auto_flow": null,
            "grid_auto_rows": null,
            "grid_column": null,
            "grid_gap": null,
            "grid_row": null,
            "grid_template_areas": null,
            "grid_template_columns": null,
            "grid_template_rows": null,
            "height": null,
            "justify_content": null,
            "justify_items": null,
            "left": null,
            "margin": null,
            "max_height": null,
            "max_width": null,
            "min_height": null,
            "min_width": null,
            "object_fit": null,
            "object_position": null,
            "order": null,
            "overflow": null,
            "overflow_x": null,
            "overflow_y": null,
            "padding": null,
            "right": null,
            "top": null,
            "visibility": null,
            "width": null
          }
        },
        "5a0b82647827424193a38dea388644a6": {
          "model_module": "@jupyter-widgets/base",
          "model_name": "LayoutModel",
          "model_module_version": "1.2.0",
          "state": {
            "_model_module": "@jupyter-widgets/base",
            "_model_module_version": "1.2.0",
            "_model_name": "LayoutModel",
            "_view_count": null,
            "_view_module": "@jupyter-widgets/base",
            "_view_module_version": "1.2.0",
            "_view_name": "LayoutView",
            "align_content": null,
            "align_items": null,
            "align_self": null,
            "border": null,
            "bottom": null,
            "display": null,
            "flex": null,
            "flex_flow": null,
            "grid_area": null,
            "grid_auto_columns": null,
            "grid_auto_flow": null,
            "grid_auto_rows": null,
            "grid_column": null,
            "grid_gap": null,
            "grid_row": null,
            "grid_template_areas": null,
            "grid_template_columns": null,
            "grid_template_rows": null,
            "height": null,
            "justify_content": null,
            "justify_items": null,
            "left": null,
            "margin": null,
            "max_height": null,
            "max_width": null,
            "min_height": null,
            "min_width": null,
            "object_fit": null,
            "object_position": null,
            "order": null,
            "overflow": null,
            "overflow_x": null,
            "overflow_y": null,
            "padding": null,
            "right": null,
            "top": null,
            "visibility": null,
            "width": null
          }
        },
        "e338a6a129754b149e3d8d94c529799d": {
          "model_module": "@jupyter-widgets/controls",
          "model_name": "DescriptionStyleModel",
          "model_module_version": "1.5.0",
          "state": {
            "_model_module": "@jupyter-widgets/controls",
            "_model_module_version": "1.5.0",
            "_model_name": "DescriptionStyleModel",
            "_view_count": null,
            "_view_module": "@jupyter-widgets/base",
            "_view_module_version": "1.2.0",
            "_view_name": "StyleView",
            "description_width": ""
          }
        },
        "5bc23327124541129c298f7754e3b382": {
          "model_module": "@jupyter-widgets/base",
          "model_name": "LayoutModel",
          "model_module_version": "1.2.0",
          "state": {
            "_model_module": "@jupyter-widgets/base",
            "_model_module_version": "1.2.0",
            "_model_name": "LayoutModel",
            "_view_count": null,
            "_view_module": "@jupyter-widgets/base",
            "_view_module_version": "1.2.0",
            "_view_name": "LayoutView",
            "align_content": null,
            "align_items": null,
            "align_self": null,
            "border": null,
            "bottom": null,
            "display": null,
            "flex": null,
            "flex_flow": null,
            "grid_area": null,
            "grid_auto_columns": null,
            "grid_auto_flow": null,
            "grid_auto_rows": null,
            "grid_column": null,
            "grid_gap": null,
            "grid_row": null,
            "grid_template_areas": null,
            "grid_template_columns": null,
            "grid_template_rows": null,
            "height": null,
            "justify_content": null,
            "justify_items": null,
            "left": null,
            "margin": null,
            "max_height": null,
            "max_width": null,
            "min_height": null,
            "min_width": null,
            "object_fit": null,
            "object_position": null,
            "order": null,
            "overflow": null,
            "overflow_x": null,
            "overflow_y": null,
            "padding": null,
            "right": null,
            "top": null,
            "visibility": null,
            "width": null
          }
        },
        "347299eed12a44ca84ca838ee5890f2d": {
          "model_module": "@jupyter-widgets/controls",
          "model_name": "ProgressStyleModel",
          "model_module_version": "1.5.0",
          "state": {
            "_model_module": "@jupyter-widgets/controls",
            "_model_module_version": "1.5.0",
            "_model_name": "ProgressStyleModel",
            "_view_count": null,
            "_view_module": "@jupyter-widgets/base",
            "_view_module_version": "1.2.0",
            "_view_name": "StyleView",
            "bar_color": null,
            "description_width": ""
          }
        },
        "4e79770338924313b4f17a7cc8e4548a": {
          "model_module": "@jupyter-widgets/base",
          "model_name": "LayoutModel",
          "model_module_version": "1.2.0",
          "state": {
            "_model_module": "@jupyter-widgets/base",
            "_model_module_version": "1.2.0",
            "_model_name": "LayoutModel",
            "_view_count": null,
            "_view_module": "@jupyter-widgets/base",
            "_view_module_version": "1.2.0",
            "_view_name": "LayoutView",
            "align_content": null,
            "align_items": null,
            "align_self": null,
            "border": null,
            "bottom": null,
            "display": null,
            "flex": null,
            "flex_flow": null,
            "grid_area": null,
            "grid_auto_columns": null,
            "grid_auto_flow": null,
            "grid_auto_rows": null,
            "grid_column": null,
            "grid_gap": null,
            "grid_row": null,
            "grid_template_areas": null,
            "grid_template_columns": null,
            "grid_template_rows": null,
            "height": null,
            "justify_content": null,
            "justify_items": null,
            "left": null,
            "margin": null,
            "max_height": null,
            "max_width": null,
            "min_height": null,
            "min_width": null,
            "object_fit": null,
            "object_position": null,
            "order": null,
            "overflow": null,
            "overflow_x": null,
            "overflow_y": null,
            "padding": null,
            "right": null,
            "top": null,
            "visibility": null,
            "width": null
          }
        },
        "4c0b2c4afda0432fb8ea164b10798832": {
          "model_module": "@jupyter-widgets/controls",
          "model_name": "DescriptionStyleModel",
          "model_module_version": "1.5.0",
          "state": {
            "_model_module": "@jupyter-widgets/controls",
            "_model_module_version": "1.5.0",
            "_model_name": "DescriptionStyleModel",
            "_view_count": null,
            "_view_module": "@jupyter-widgets/base",
            "_view_module_version": "1.2.0",
            "_view_name": "StyleView",
            "description_width": ""
          }
        },
        "fe63eafe0ab7418e9bfe6ff3b7829a96": {
          "model_module": "@jupyter-widgets/controls",
          "model_name": "HBoxModel",
          "model_module_version": "1.5.0",
          "state": {
            "_dom_classes": [],
            "_model_module": "@jupyter-widgets/controls",
            "_model_module_version": "1.5.0",
            "_model_name": "HBoxModel",
            "_view_count": null,
            "_view_module": "@jupyter-widgets/controls",
            "_view_module_version": "1.5.0",
            "_view_name": "HBoxView",
            "box_style": "",
            "children": [
              "IPY_MODEL_0708641c8a1d446b97ae9979d3fd2c78",
              "IPY_MODEL_75b66614f6c0406189082f82c9a7f9dd",
              "IPY_MODEL_8f7d06496d124199bb17efa4ef6322b0"
            ],
            "layout": "IPY_MODEL_1769debdac964361a816a06a17c682bb"
          }
        },
        "0708641c8a1d446b97ae9979d3fd2c78": {
          "model_module": "@jupyter-widgets/controls",
          "model_name": "HTMLModel",
          "model_module_version": "1.5.0",
          "state": {
            "_dom_classes": [],
            "_model_module": "@jupyter-widgets/controls",
            "_model_module_version": "1.5.0",
            "_model_name": "HTMLModel",
            "_view_count": null,
            "_view_module": "@jupyter-widgets/controls",
            "_view_module_version": "1.5.0",
            "_view_name": "HTMLView",
            "description": "",
            "description_tooltip": null,
            "layout": "IPY_MODEL_24aed78a7220405cbf1b5a3ee71acfa6",
            "placeholder": "​",
            "style": "IPY_MODEL_edf22f6b0a094c119b93f69bcb594fd8",
            "value": "Downloading (…)lve/main/config.json: 100%"
          }
        },
        "75b66614f6c0406189082f82c9a7f9dd": {
          "model_module": "@jupyter-widgets/controls",
          "model_name": "FloatProgressModel",
          "model_module_version": "1.5.0",
          "state": {
            "_dom_classes": [],
            "_model_module": "@jupyter-widgets/controls",
            "_model_module_version": "1.5.0",
            "_model_name": "FloatProgressModel",
            "_view_count": null,
            "_view_module": "@jupyter-widgets/controls",
            "_view_module_version": "1.5.0",
            "_view_name": "ProgressView",
            "bar_style": "success",
            "description": "",
            "description_tooltip": null,
            "layout": "IPY_MODEL_f54e7af4b9c8485da67b79f9fab6d7c1",
            "max": 539,
            "min": 0,
            "orientation": "horizontal",
            "style": "IPY_MODEL_f8e688f9a54c4145b8d7efc0d8a51d18",
            "value": 539
          }
        },
        "8f7d06496d124199bb17efa4ef6322b0": {
          "model_module": "@jupyter-widgets/controls",
          "model_name": "HTMLModel",
          "model_module_version": "1.5.0",
          "state": {
            "_dom_classes": [],
            "_model_module": "@jupyter-widgets/controls",
            "_model_module_version": "1.5.0",
            "_model_name": "HTMLModel",
            "_view_count": null,
            "_view_module": "@jupyter-widgets/controls",
            "_view_module_version": "1.5.0",
            "_view_name": "HTMLView",
            "description": "",
            "description_tooltip": null,
            "layout": "IPY_MODEL_1c18f062017d4faaa96eb697d48428a6",
            "placeholder": "​",
            "style": "IPY_MODEL_2900ae30cbb4472787f654c84918b999",
            "value": " 539/539 [00:00&lt;00:00, 9.63kB/s]"
          }
        },
        "1769debdac964361a816a06a17c682bb": {
          "model_module": "@jupyter-widgets/base",
          "model_name": "LayoutModel",
          "model_module_version": "1.2.0",
          "state": {
            "_model_module": "@jupyter-widgets/base",
            "_model_module_version": "1.2.0",
            "_model_name": "LayoutModel",
            "_view_count": null,
            "_view_module": "@jupyter-widgets/base",
            "_view_module_version": "1.2.0",
            "_view_name": "LayoutView",
            "align_content": null,
            "align_items": null,
            "align_self": null,
            "border": null,
            "bottom": null,
            "display": null,
            "flex": null,
            "flex_flow": null,
            "grid_area": null,
            "grid_auto_columns": null,
            "grid_auto_flow": null,
            "grid_auto_rows": null,
            "grid_column": null,
            "grid_gap": null,
            "grid_row": null,
            "grid_template_areas": null,
            "grid_template_columns": null,
            "grid_template_rows": null,
            "height": null,
            "justify_content": null,
            "justify_items": null,
            "left": null,
            "margin": null,
            "max_height": null,
            "max_width": null,
            "min_height": null,
            "min_width": null,
            "object_fit": null,
            "object_position": null,
            "order": null,
            "overflow": null,
            "overflow_x": null,
            "overflow_y": null,
            "padding": null,
            "right": null,
            "top": null,
            "visibility": null,
            "width": null
          }
        },
        "24aed78a7220405cbf1b5a3ee71acfa6": {
          "model_module": "@jupyter-widgets/base",
          "model_name": "LayoutModel",
          "model_module_version": "1.2.0",
          "state": {
            "_model_module": "@jupyter-widgets/base",
            "_model_module_version": "1.2.0",
            "_model_name": "LayoutModel",
            "_view_count": null,
            "_view_module": "@jupyter-widgets/base",
            "_view_module_version": "1.2.0",
            "_view_name": "LayoutView",
            "align_content": null,
            "align_items": null,
            "align_self": null,
            "border": null,
            "bottom": null,
            "display": null,
            "flex": null,
            "flex_flow": null,
            "grid_area": null,
            "grid_auto_columns": null,
            "grid_auto_flow": null,
            "grid_auto_rows": null,
            "grid_column": null,
            "grid_gap": null,
            "grid_row": null,
            "grid_template_areas": null,
            "grid_template_columns": null,
            "grid_template_rows": null,
            "height": null,
            "justify_content": null,
            "justify_items": null,
            "left": null,
            "margin": null,
            "max_height": null,
            "max_width": null,
            "min_height": null,
            "min_width": null,
            "object_fit": null,
            "object_position": null,
            "order": null,
            "overflow": null,
            "overflow_x": null,
            "overflow_y": null,
            "padding": null,
            "right": null,
            "top": null,
            "visibility": null,
            "width": null
          }
        },
        "edf22f6b0a094c119b93f69bcb594fd8": {
          "model_module": "@jupyter-widgets/controls",
          "model_name": "DescriptionStyleModel",
          "model_module_version": "1.5.0",
          "state": {
            "_model_module": "@jupyter-widgets/controls",
            "_model_module_version": "1.5.0",
            "_model_name": "DescriptionStyleModel",
            "_view_count": null,
            "_view_module": "@jupyter-widgets/base",
            "_view_module_version": "1.2.0",
            "_view_name": "StyleView",
            "description_width": ""
          }
        },
        "f54e7af4b9c8485da67b79f9fab6d7c1": {
          "model_module": "@jupyter-widgets/base",
          "model_name": "LayoutModel",
          "model_module_version": "1.2.0",
          "state": {
            "_model_module": "@jupyter-widgets/base",
            "_model_module_version": "1.2.0",
            "_model_name": "LayoutModel",
            "_view_count": null,
            "_view_module": "@jupyter-widgets/base",
            "_view_module_version": "1.2.0",
            "_view_name": "LayoutView",
            "align_content": null,
            "align_items": null,
            "align_self": null,
            "border": null,
            "bottom": null,
            "display": null,
            "flex": null,
            "flex_flow": null,
            "grid_area": null,
            "grid_auto_columns": null,
            "grid_auto_flow": null,
            "grid_auto_rows": null,
            "grid_column": null,
            "grid_gap": null,
            "grid_row": null,
            "grid_template_areas": null,
            "grid_template_columns": null,
            "grid_template_rows": null,
            "height": null,
            "justify_content": null,
            "justify_items": null,
            "left": null,
            "margin": null,
            "max_height": null,
            "max_width": null,
            "min_height": null,
            "min_width": null,
            "object_fit": null,
            "object_position": null,
            "order": null,
            "overflow": null,
            "overflow_x": null,
            "overflow_y": null,
            "padding": null,
            "right": null,
            "top": null,
            "visibility": null,
            "width": null
          }
        },
        "f8e688f9a54c4145b8d7efc0d8a51d18": {
          "model_module": "@jupyter-widgets/controls",
          "model_name": "ProgressStyleModel",
          "model_module_version": "1.5.0",
          "state": {
            "_model_module": "@jupyter-widgets/controls",
            "_model_module_version": "1.5.0",
            "_model_name": "ProgressStyleModel",
            "_view_count": null,
            "_view_module": "@jupyter-widgets/base",
            "_view_module_version": "1.2.0",
            "_view_name": "StyleView",
            "bar_color": null,
            "description_width": ""
          }
        },
        "1c18f062017d4faaa96eb697d48428a6": {
          "model_module": "@jupyter-widgets/base",
          "model_name": "LayoutModel",
          "model_module_version": "1.2.0",
          "state": {
            "_model_module": "@jupyter-widgets/base",
            "_model_module_version": "1.2.0",
            "_model_name": "LayoutModel",
            "_view_count": null,
            "_view_module": "@jupyter-widgets/base",
            "_view_module_version": "1.2.0",
            "_view_name": "LayoutView",
            "align_content": null,
            "align_items": null,
            "align_self": null,
            "border": null,
            "bottom": null,
            "display": null,
            "flex": null,
            "flex_flow": null,
            "grid_area": null,
            "grid_auto_columns": null,
            "grid_auto_flow": null,
            "grid_auto_rows": null,
            "grid_column": null,
            "grid_gap": null,
            "grid_row": null,
            "grid_template_areas": null,
            "grid_template_columns": null,
            "grid_template_rows": null,
            "height": null,
            "justify_content": null,
            "justify_items": null,
            "left": null,
            "margin": null,
            "max_height": null,
            "max_width": null,
            "min_height": null,
            "min_width": null,
            "object_fit": null,
            "object_position": null,
            "order": null,
            "overflow": null,
            "overflow_x": null,
            "overflow_y": null,
            "padding": null,
            "right": null,
            "top": null,
            "visibility": null,
            "width": null
          }
        },
        "2900ae30cbb4472787f654c84918b999": {
          "model_module": "@jupyter-widgets/controls",
          "model_name": "DescriptionStyleModel",
          "model_module_version": "1.5.0",
          "state": {
            "_model_module": "@jupyter-widgets/controls",
            "_model_module_version": "1.5.0",
            "_model_name": "DescriptionStyleModel",
            "_view_count": null,
            "_view_module": "@jupyter-widgets/base",
            "_view_module_version": "1.2.0",
            "_view_name": "StyleView",
            "description_width": ""
          }
        },
        "15dbc65ac45c45a5a86ab396d55b4726": {
          "model_module": "@jupyter-widgets/controls",
          "model_name": "HBoxModel",
          "model_module_version": "1.5.0",
          "state": {
            "_dom_classes": [],
            "_model_module": "@jupyter-widgets/controls",
            "_model_module_version": "1.5.0",
            "_model_name": "HBoxModel",
            "_view_count": null,
            "_view_module": "@jupyter-widgets/controls",
            "_view_module_version": "1.5.0",
            "_view_name": "HBoxView",
            "box_style": "",
            "children": [
              "IPY_MODEL_e56cfe777fbc436687a2f3a7f2e7fdc5",
              "IPY_MODEL_6a512bd19ed44875bc0dd54db3ff56a1",
              "IPY_MODEL_d2c728cdb7274c78a3f3fdc3d94ac641"
            ],
            "layout": "IPY_MODEL_c5fac785b86c4a2782fabb585ff577e6"
          }
        },
        "e56cfe777fbc436687a2f3a7f2e7fdc5": {
          "model_module": "@jupyter-widgets/controls",
          "model_name": "HTMLModel",
          "model_module_version": "1.5.0",
          "state": {
            "_dom_classes": [],
            "_model_module": "@jupyter-widgets/controls",
            "_model_module_version": "1.5.0",
            "_model_name": "HTMLModel",
            "_view_count": null,
            "_view_module": "@jupyter-widgets/controls",
            "_view_module_version": "1.5.0",
            "_view_name": "HTMLView",
            "description": "",
            "description_tooltip": null,
            "layout": "IPY_MODEL_bc0e981dfa9844cf811d17d8997f1271",
            "placeholder": "​",
            "style": "IPY_MODEL_0f6a24b362b543c5874af659197afb38",
            "value": "Downloading (…)solve/main/vocab.txt: 100%"
          }
        },
        "6a512bd19ed44875bc0dd54db3ff56a1": {
          "model_module": "@jupyter-widgets/controls",
          "model_name": "FloatProgressModel",
          "model_module_version": "1.5.0",
          "state": {
            "_dom_classes": [],
            "_model_module": "@jupyter-widgets/controls",
            "_model_module_version": "1.5.0",
            "_model_name": "FloatProgressModel",
            "_view_count": null,
            "_view_module": "@jupyter-widgets/controls",
            "_view_module_version": "1.5.0",
            "_view_name": "ProgressView",
            "bar_style": "success",
            "description": "",
            "description_tooltip": null,
            "layout": "IPY_MODEL_3948b42506b449eab738165c0ca750de",
            "max": 231508,
            "min": 0,
            "orientation": "horizontal",
            "style": "IPY_MODEL_bafdffeab50740c294bb1b9cd5b54ebc",
            "value": 231508
          }
        },
        "d2c728cdb7274c78a3f3fdc3d94ac641": {
          "model_module": "@jupyter-widgets/controls",
          "model_name": "HTMLModel",
          "model_module_version": "1.5.0",
          "state": {
            "_dom_classes": [],
            "_model_module": "@jupyter-widgets/controls",
            "_model_module_version": "1.5.0",
            "_model_name": "HTMLModel",
            "_view_count": null,
            "_view_module": "@jupyter-widgets/controls",
            "_view_module_version": "1.5.0",
            "_view_name": "HTMLView",
            "description": "",
            "description_tooltip": null,
            "layout": "IPY_MODEL_4036ca8729554679ad2a33728981a2be",
            "placeholder": "​",
            "style": "IPY_MODEL_c1efe703d0ce4bbab274b61881455ad7",
            "value": " 232k/232k [00:00&lt;00:00, 1.99MB/s]"
          }
        },
        "c5fac785b86c4a2782fabb585ff577e6": {
          "model_module": "@jupyter-widgets/base",
          "model_name": "LayoutModel",
          "model_module_version": "1.2.0",
          "state": {
            "_model_module": "@jupyter-widgets/base",
            "_model_module_version": "1.2.0",
            "_model_name": "LayoutModel",
            "_view_count": null,
            "_view_module": "@jupyter-widgets/base",
            "_view_module_version": "1.2.0",
            "_view_name": "LayoutView",
            "align_content": null,
            "align_items": null,
            "align_self": null,
            "border": null,
            "bottom": null,
            "display": null,
            "flex": null,
            "flex_flow": null,
            "grid_area": null,
            "grid_auto_columns": null,
            "grid_auto_flow": null,
            "grid_auto_rows": null,
            "grid_column": null,
            "grid_gap": null,
            "grid_row": null,
            "grid_template_areas": null,
            "grid_template_columns": null,
            "grid_template_rows": null,
            "height": null,
            "justify_content": null,
            "justify_items": null,
            "left": null,
            "margin": null,
            "max_height": null,
            "max_width": null,
            "min_height": null,
            "min_width": null,
            "object_fit": null,
            "object_position": null,
            "order": null,
            "overflow": null,
            "overflow_x": null,
            "overflow_y": null,
            "padding": null,
            "right": null,
            "top": null,
            "visibility": null,
            "width": null
          }
        },
        "bc0e981dfa9844cf811d17d8997f1271": {
          "model_module": "@jupyter-widgets/base",
          "model_name": "LayoutModel",
          "model_module_version": "1.2.0",
          "state": {
            "_model_module": "@jupyter-widgets/base",
            "_model_module_version": "1.2.0",
            "_model_name": "LayoutModel",
            "_view_count": null,
            "_view_module": "@jupyter-widgets/base",
            "_view_module_version": "1.2.0",
            "_view_name": "LayoutView",
            "align_content": null,
            "align_items": null,
            "align_self": null,
            "border": null,
            "bottom": null,
            "display": null,
            "flex": null,
            "flex_flow": null,
            "grid_area": null,
            "grid_auto_columns": null,
            "grid_auto_flow": null,
            "grid_auto_rows": null,
            "grid_column": null,
            "grid_gap": null,
            "grid_row": null,
            "grid_template_areas": null,
            "grid_template_columns": null,
            "grid_template_rows": null,
            "height": null,
            "justify_content": null,
            "justify_items": null,
            "left": null,
            "margin": null,
            "max_height": null,
            "max_width": null,
            "min_height": null,
            "min_width": null,
            "object_fit": null,
            "object_position": null,
            "order": null,
            "overflow": null,
            "overflow_x": null,
            "overflow_y": null,
            "padding": null,
            "right": null,
            "top": null,
            "visibility": null,
            "width": null
          }
        },
        "0f6a24b362b543c5874af659197afb38": {
          "model_module": "@jupyter-widgets/controls",
          "model_name": "DescriptionStyleModel",
          "model_module_version": "1.5.0",
          "state": {
            "_model_module": "@jupyter-widgets/controls",
            "_model_module_version": "1.5.0",
            "_model_name": "DescriptionStyleModel",
            "_view_count": null,
            "_view_module": "@jupyter-widgets/base",
            "_view_module_version": "1.2.0",
            "_view_name": "StyleView",
            "description_width": ""
          }
        },
        "3948b42506b449eab738165c0ca750de": {
          "model_module": "@jupyter-widgets/base",
          "model_name": "LayoutModel",
          "model_module_version": "1.2.0",
          "state": {
            "_model_module": "@jupyter-widgets/base",
            "_model_module_version": "1.2.0",
            "_model_name": "LayoutModel",
            "_view_count": null,
            "_view_module": "@jupyter-widgets/base",
            "_view_module_version": "1.2.0",
            "_view_name": "LayoutView",
            "align_content": null,
            "align_items": null,
            "align_self": null,
            "border": null,
            "bottom": null,
            "display": null,
            "flex": null,
            "flex_flow": null,
            "grid_area": null,
            "grid_auto_columns": null,
            "grid_auto_flow": null,
            "grid_auto_rows": null,
            "grid_column": null,
            "grid_gap": null,
            "grid_row": null,
            "grid_template_areas": null,
            "grid_template_columns": null,
            "grid_template_rows": null,
            "height": null,
            "justify_content": null,
            "justify_items": null,
            "left": null,
            "margin": null,
            "max_height": null,
            "max_width": null,
            "min_height": null,
            "min_width": null,
            "object_fit": null,
            "object_position": null,
            "order": null,
            "overflow": null,
            "overflow_x": null,
            "overflow_y": null,
            "padding": null,
            "right": null,
            "top": null,
            "visibility": null,
            "width": null
          }
        },
        "bafdffeab50740c294bb1b9cd5b54ebc": {
          "model_module": "@jupyter-widgets/controls",
          "model_name": "ProgressStyleModel",
          "model_module_version": "1.5.0",
          "state": {
            "_model_module": "@jupyter-widgets/controls",
            "_model_module_version": "1.5.0",
            "_model_name": "ProgressStyleModel",
            "_view_count": null,
            "_view_module": "@jupyter-widgets/base",
            "_view_module_version": "1.2.0",
            "_view_name": "StyleView",
            "bar_color": null,
            "description_width": ""
          }
        },
        "4036ca8729554679ad2a33728981a2be": {
          "model_module": "@jupyter-widgets/base",
          "model_name": "LayoutModel",
          "model_module_version": "1.2.0",
          "state": {
            "_model_module": "@jupyter-widgets/base",
            "_model_module_version": "1.2.0",
            "_model_name": "LayoutModel",
            "_view_count": null,
            "_view_module": "@jupyter-widgets/base",
            "_view_module_version": "1.2.0",
            "_view_name": "LayoutView",
            "align_content": null,
            "align_items": null,
            "align_self": null,
            "border": null,
            "bottom": null,
            "display": null,
            "flex": null,
            "flex_flow": null,
            "grid_area": null,
            "grid_auto_columns": null,
            "grid_auto_flow": null,
            "grid_auto_rows": null,
            "grid_column": null,
            "grid_gap": null,
            "grid_row": null,
            "grid_template_areas": null,
            "grid_template_columns": null,
            "grid_template_rows": null,
            "height": null,
            "justify_content": null,
            "justify_items": null,
            "left": null,
            "margin": null,
            "max_height": null,
            "max_width": null,
            "min_height": null,
            "min_width": null,
            "object_fit": null,
            "object_position": null,
            "order": null,
            "overflow": null,
            "overflow_x": null,
            "overflow_y": null,
            "padding": null,
            "right": null,
            "top": null,
            "visibility": null,
            "width": null
          }
        },
        "c1efe703d0ce4bbab274b61881455ad7": {
          "model_module": "@jupyter-widgets/controls",
          "model_name": "DescriptionStyleModel",
          "model_module_version": "1.5.0",
          "state": {
            "_model_module": "@jupyter-widgets/controls",
            "_model_module_version": "1.5.0",
            "_model_name": "DescriptionStyleModel",
            "_view_count": null,
            "_view_module": "@jupyter-widgets/base",
            "_view_module_version": "1.2.0",
            "_view_name": "StyleView",
            "description_width": ""
          }
        },
        "7e1f528e034f4e05b626965e80f40f1d": {
          "model_module": "@jupyter-widgets/controls",
          "model_name": "HBoxModel",
          "model_module_version": "1.5.0",
          "state": {
            "_dom_classes": [],
            "_model_module": "@jupyter-widgets/controls",
            "_model_module_version": "1.5.0",
            "_model_name": "HBoxModel",
            "_view_count": null,
            "_view_module": "@jupyter-widgets/controls",
            "_view_module_version": "1.5.0",
            "_view_name": "HBoxView",
            "box_style": "",
            "children": [
              "IPY_MODEL_40db4eb007154a48a149e38583786e69",
              "IPY_MODEL_1a31ad1af9d5449b8591ccd38deb6e53",
              "IPY_MODEL_28fb8226e72442b6826c09cc11eb7ada"
            ],
            "layout": "IPY_MODEL_78c6e8c4d2fb431ebe071602086d3894"
          }
        },
        "40db4eb007154a48a149e38583786e69": {
          "model_module": "@jupyter-widgets/controls",
          "model_name": "HTMLModel",
          "model_module_version": "1.5.0",
          "state": {
            "_dom_classes": [],
            "_model_module": "@jupyter-widgets/controls",
            "_model_module_version": "1.5.0",
            "_model_name": "HTMLModel",
            "_view_count": null,
            "_view_module": "@jupyter-widgets/controls",
            "_view_module_version": "1.5.0",
            "_view_name": "HTMLView",
            "description": "",
            "description_tooltip": null,
            "layout": "IPY_MODEL_ea772212618b4334ba1ddc65cddd00cf",
            "placeholder": "​",
            "style": "IPY_MODEL_6ca6179c36d943e8bbb4f2932ed97f8a",
            "value": "Downloading (…)/main/tokenizer.json: 100%"
          }
        },
        "1a31ad1af9d5449b8591ccd38deb6e53": {
          "model_module": "@jupyter-widgets/controls",
          "model_name": "FloatProgressModel",
          "model_module_version": "1.5.0",
          "state": {
            "_dom_classes": [],
            "_model_module": "@jupyter-widgets/controls",
            "_model_module_version": "1.5.0",
            "_model_name": "FloatProgressModel",
            "_view_count": null,
            "_view_module": "@jupyter-widgets/controls",
            "_view_module_version": "1.5.0",
            "_view_name": "ProgressView",
            "bar_style": "success",
            "description": "",
            "description_tooltip": null,
            "layout": "IPY_MODEL_bd6fffd731aa43b990c83dd28d86fe4d",
            "max": 466081,
            "min": 0,
            "orientation": "horizontal",
            "style": "IPY_MODEL_f232686525f94240a707e9e40017cc82",
            "value": 466081
          }
        },
        "28fb8226e72442b6826c09cc11eb7ada": {
          "model_module": "@jupyter-widgets/controls",
          "model_name": "HTMLModel",
          "model_module_version": "1.5.0",
          "state": {
            "_dom_classes": [],
            "_model_module": "@jupyter-widgets/controls",
            "_model_module_version": "1.5.0",
            "_model_name": "HTMLModel",
            "_view_count": null,
            "_view_module": "@jupyter-widgets/controls",
            "_view_module_version": "1.5.0",
            "_view_name": "HTMLView",
            "description": "",
            "description_tooltip": null,
            "layout": "IPY_MODEL_75dab51906074c098725c28c171c47e1",
            "placeholder": "​",
            "style": "IPY_MODEL_749356112c604f4fa4c0d75cb1096f72",
            "value": " 466k/466k [00:00&lt;00:00, 4.76MB/s]"
          }
        },
        "78c6e8c4d2fb431ebe071602086d3894": {
          "model_module": "@jupyter-widgets/base",
          "model_name": "LayoutModel",
          "model_module_version": "1.2.0",
          "state": {
            "_model_module": "@jupyter-widgets/base",
            "_model_module_version": "1.2.0",
            "_model_name": "LayoutModel",
            "_view_count": null,
            "_view_module": "@jupyter-widgets/base",
            "_view_module_version": "1.2.0",
            "_view_name": "LayoutView",
            "align_content": null,
            "align_items": null,
            "align_self": null,
            "border": null,
            "bottom": null,
            "display": null,
            "flex": null,
            "flex_flow": null,
            "grid_area": null,
            "grid_auto_columns": null,
            "grid_auto_flow": null,
            "grid_auto_rows": null,
            "grid_column": null,
            "grid_gap": null,
            "grid_row": null,
            "grid_template_areas": null,
            "grid_template_columns": null,
            "grid_template_rows": null,
            "height": null,
            "justify_content": null,
            "justify_items": null,
            "left": null,
            "margin": null,
            "max_height": null,
            "max_width": null,
            "min_height": null,
            "min_width": null,
            "object_fit": null,
            "object_position": null,
            "order": null,
            "overflow": null,
            "overflow_x": null,
            "overflow_y": null,
            "padding": null,
            "right": null,
            "top": null,
            "visibility": null,
            "width": null
          }
        },
        "ea772212618b4334ba1ddc65cddd00cf": {
          "model_module": "@jupyter-widgets/base",
          "model_name": "LayoutModel",
          "model_module_version": "1.2.0",
          "state": {
            "_model_module": "@jupyter-widgets/base",
            "_model_module_version": "1.2.0",
            "_model_name": "LayoutModel",
            "_view_count": null,
            "_view_module": "@jupyter-widgets/base",
            "_view_module_version": "1.2.0",
            "_view_name": "LayoutView",
            "align_content": null,
            "align_items": null,
            "align_self": null,
            "border": null,
            "bottom": null,
            "display": null,
            "flex": null,
            "flex_flow": null,
            "grid_area": null,
            "grid_auto_columns": null,
            "grid_auto_flow": null,
            "grid_auto_rows": null,
            "grid_column": null,
            "grid_gap": null,
            "grid_row": null,
            "grid_template_areas": null,
            "grid_template_columns": null,
            "grid_template_rows": null,
            "height": null,
            "justify_content": null,
            "justify_items": null,
            "left": null,
            "margin": null,
            "max_height": null,
            "max_width": null,
            "min_height": null,
            "min_width": null,
            "object_fit": null,
            "object_position": null,
            "order": null,
            "overflow": null,
            "overflow_x": null,
            "overflow_y": null,
            "padding": null,
            "right": null,
            "top": null,
            "visibility": null,
            "width": null
          }
        },
        "6ca6179c36d943e8bbb4f2932ed97f8a": {
          "model_module": "@jupyter-widgets/controls",
          "model_name": "DescriptionStyleModel",
          "model_module_version": "1.5.0",
          "state": {
            "_model_module": "@jupyter-widgets/controls",
            "_model_module_version": "1.5.0",
            "_model_name": "DescriptionStyleModel",
            "_view_count": null,
            "_view_module": "@jupyter-widgets/base",
            "_view_module_version": "1.2.0",
            "_view_name": "StyleView",
            "description_width": ""
          }
        },
        "bd6fffd731aa43b990c83dd28d86fe4d": {
          "model_module": "@jupyter-widgets/base",
          "model_name": "LayoutModel",
          "model_module_version": "1.2.0",
          "state": {
            "_model_module": "@jupyter-widgets/base",
            "_model_module_version": "1.2.0",
            "_model_name": "LayoutModel",
            "_view_count": null,
            "_view_module": "@jupyter-widgets/base",
            "_view_module_version": "1.2.0",
            "_view_name": "LayoutView",
            "align_content": null,
            "align_items": null,
            "align_self": null,
            "border": null,
            "bottom": null,
            "display": null,
            "flex": null,
            "flex_flow": null,
            "grid_area": null,
            "grid_auto_columns": null,
            "grid_auto_flow": null,
            "grid_auto_rows": null,
            "grid_column": null,
            "grid_gap": null,
            "grid_row": null,
            "grid_template_areas": null,
            "grid_template_columns": null,
            "grid_template_rows": null,
            "height": null,
            "justify_content": null,
            "justify_items": null,
            "left": null,
            "margin": null,
            "max_height": null,
            "max_width": null,
            "min_height": null,
            "min_width": null,
            "object_fit": null,
            "object_position": null,
            "order": null,
            "overflow": null,
            "overflow_x": null,
            "overflow_y": null,
            "padding": null,
            "right": null,
            "top": null,
            "visibility": null,
            "width": null
          }
        },
        "f232686525f94240a707e9e40017cc82": {
          "model_module": "@jupyter-widgets/controls",
          "model_name": "ProgressStyleModel",
          "model_module_version": "1.5.0",
          "state": {
            "_model_module": "@jupyter-widgets/controls",
            "_model_module_version": "1.5.0",
            "_model_name": "ProgressStyleModel",
            "_view_count": null,
            "_view_module": "@jupyter-widgets/base",
            "_view_module_version": "1.2.0",
            "_view_name": "StyleView",
            "bar_color": null,
            "description_width": ""
          }
        },
        "75dab51906074c098725c28c171c47e1": {
          "model_module": "@jupyter-widgets/base",
          "model_name": "LayoutModel",
          "model_module_version": "1.2.0",
          "state": {
            "_model_module": "@jupyter-widgets/base",
            "_model_module_version": "1.2.0",
            "_model_name": "LayoutModel",
            "_view_count": null,
            "_view_module": "@jupyter-widgets/base",
            "_view_module_version": "1.2.0",
            "_view_name": "LayoutView",
            "align_content": null,
            "align_items": null,
            "align_self": null,
            "border": null,
            "bottom": null,
            "display": null,
            "flex": null,
            "flex_flow": null,
            "grid_area": null,
            "grid_auto_columns": null,
            "grid_auto_flow": null,
            "grid_auto_rows": null,
            "grid_column": null,
            "grid_gap": null,
            "grid_row": null,
            "grid_template_areas": null,
            "grid_template_columns": null,
            "grid_template_rows": null,
            "height": null,
            "justify_content": null,
            "justify_items": null,
            "left": null,
            "margin": null,
            "max_height": null,
            "max_width": null,
            "min_height": null,
            "min_width": null,
            "object_fit": null,
            "object_position": null,
            "order": null,
            "overflow": null,
            "overflow_x": null,
            "overflow_y": null,
            "padding": null,
            "right": null,
            "top": null,
            "visibility": null,
            "width": null
          }
        },
        "749356112c604f4fa4c0d75cb1096f72": {
          "model_module": "@jupyter-widgets/controls",
          "model_name": "DescriptionStyleModel",
          "model_module_version": "1.5.0",
          "state": {
            "_model_module": "@jupyter-widgets/controls",
            "_model_module_version": "1.5.0",
            "_model_name": "DescriptionStyleModel",
            "_view_count": null,
            "_view_module": "@jupyter-widgets/base",
            "_view_module_version": "1.2.0",
            "_view_name": "StyleView",
            "description_width": ""
          }
        },
        "fa5e74fada534840a6882f5d381587a1": {
          "model_module": "@jupyter-widgets/controls",
          "model_name": "HBoxModel",
          "model_module_version": "1.5.0",
          "state": {
            "_dom_classes": [],
            "_model_module": "@jupyter-widgets/controls",
            "_model_module_version": "1.5.0",
            "_model_name": "HBoxModel",
            "_view_count": null,
            "_view_module": "@jupyter-widgets/controls",
            "_view_module_version": "1.5.0",
            "_view_name": "HBoxView",
            "box_style": "",
            "children": [
              "IPY_MODEL_f83fc5cfdd014b2d8418b9ec0597a70c",
              "IPY_MODEL_a0459b060e3a4096aebf6bc8b642e9a5",
              "IPY_MODEL_1ff521bd1e9e4caca2036a9b8015c946"
            ],
            "layout": "IPY_MODEL_5162e9173eaf42f0a7b4753d948b5e4d"
          }
        },
        "f83fc5cfdd014b2d8418b9ec0597a70c": {
          "model_module": "@jupyter-widgets/controls",
          "model_name": "HTMLModel",
          "model_module_version": "1.5.0",
          "state": {
            "_dom_classes": [],
            "_model_module": "@jupyter-widgets/controls",
            "_model_module_version": "1.5.0",
            "_model_name": "HTMLModel",
            "_view_count": null,
            "_view_module": "@jupyter-widgets/controls",
            "_view_module_version": "1.5.0",
            "_view_name": "HTMLView",
            "description": "",
            "description_tooltip": null,
            "layout": "IPY_MODEL_493aa65b79ab4697b9b0877f39ac8a57",
            "placeholder": "​",
            "style": "IPY_MODEL_f54626a4ad034428a41e34896a1e37c3",
            "value": "Downloading (…)cial_tokens_map.json: 100%"
          }
        },
        "a0459b060e3a4096aebf6bc8b642e9a5": {
          "model_module": "@jupyter-widgets/controls",
          "model_name": "FloatProgressModel",
          "model_module_version": "1.5.0",
          "state": {
            "_dom_classes": [],
            "_model_module": "@jupyter-widgets/controls",
            "_model_module_version": "1.5.0",
            "_model_name": "FloatProgressModel",
            "_view_count": null,
            "_view_module": "@jupyter-widgets/controls",
            "_view_module_version": "1.5.0",
            "_view_name": "ProgressView",
            "bar_style": "success",
            "description": "",
            "description_tooltip": null,
            "layout": "IPY_MODEL_a3f683cebd1049bcbae43e598181aad2",
            "max": 112,
            "min": 0,
            "orientation": "horizontal",
            "style": "IPY_MODEL_3921bcdf028340668e7313af2e747e40",
            "value": 112
          }
        },
        "1ff521bd1e9e4caca2036a9b8015c946": {
          "model_module": "@jupyter-widgets/controls",
          "model_name": "HTMLModel",
          "model_module_version": "1.5.0",
          "state": {
            "_dom_classes": [],
            "_model_module": "@jupyter-widgets/controls",
            "_model_module_version": "1.5.0",
            "_model_name": "HTMLModel",
            "_view_count": null,
            "_view_module": "@jupyter-widgets/controls",
            "_view_module_version": "1.5.0",
            "_view_name": "HTMLView",
            "description": "",
            "description_tooltip": null,
            "layout": "IPY_MODEL_21421843653d461a9d95ee3f3241621b",
            "placeholder": "​",
            "style": "IPY_MODEL_b859cf8975074232ba766fb19cd2ba2e",
            "value": " 112/112 [00:00&lt;00:00, 1.86kB/s]"
          }
        },
        "5162e9173eaf42f0a7b4753d948b5e4d": {
          "model_module": "@jupyter-widgets/base",
          "model_name": "LayoutModel",
          "model_module_version": "1.2.0",
          "state": {
            "_model_module": "@jupyter-widgets/base",
            "_model_module_version": "1.2.0",
            "_model_name": "LayoutModel",
            "_view_count": null,
            "_view_module": "@jupyter-widgets/base",
            "_view_module_version": "1.2.0",
            "_view_name": "LayoutView",
            "align_content": null,
            "align_items": null,
            "align_self": null,
            "border": null,
            "bottom": null,
            "display": null,
            "flex": null,
            "flex_flow": null,
            "grid_area": null,
            "grid_auto_columns": null,
            "grid_auto_flow": null,
            "grid_auto_rows": null,
            "grid_column": null,
            "grid_gap": null,
            "grid_row": null,
            "grid_template_areas": null,
            "grid_template_columns": null,
            "grid_template_rows": null,
            "height": null,
            "justify_content": null,
            "justify_items": null,
            "left": null,
            "margin": null,
            "max_height": null,
            "max_width": null,
            "min_height": null,
            "min_width": null,
            "object_fit": null,
            "object_position": null,
            "order": null,
            "overflow": null,
            "overflow_x": null,
            "overflow_y": null,
            "padding": null,
            "right": null,
            "top": null,
            "visibility": null,
            "width": null
          }
        },
        "493aa65b79ab4697b9b0877f39ac8a57": {
          "model_module": "@jupyter-widgets/base",
          "model_name": "LayoutModel",
          "model_module_version": "1.2.0",
          "state": {
            "_model_module": "@jupyter-widgets/base",
            "_model_module_version": "1.2.0",
            "_model_name": "LayoutModel",
            "_view_count": null,
            "_view_module": "@jupyter-widgets/base",
            "_view_module_version": "1.2.0",
            "_view_name": "LayoutView",
            "align_content": null,
            "align_items": null,
            "align_self": null,
            "border": null,
            "bottom": null,
            "display": null,
            "flex": null,
            "flex_flow": null,
            "grid_area": null,
            "grid_auto_columns": null,
            "grid_auto_flow": null,
            "grid_auto_rows": null,
            "grid_column": null,
            "grid_gap": null,
            "grid_row": null,
            "grid_template_areas": null,
            "grid_template_columns": null,
            "grid_template_rows": null,
            "height": null,
            "justify_content": null,
            "justify_items": null,
            "left": null,
            "margin": null,
            "max_height": null,
            "max_width": null,
            "min_height": null,
            "min_width": null,
            "object_fit": null,
            "object_position": null,
            "order": null,
            "overflow": null,
            "overflow_x": null,
            "overflow_y": null,
            "padding": null,
            "right": null,
            "top": null,
            "visibility": null,
            "width": null
          }
        },
        "f54626a4ad034428a41e34896a1e37c3": {
          "model_module": "@jupyter-widgets/controls",
          "model_name": "DescriptionStyleModel",
          "model_module_version": "1.5.0",
          "state": {
            "_model_module": "@jupyter-widgets/controls",
            "_model_module_version": "1.5.0",
            "_model_name": "DescriptionStyleModel",
            "_view_count": null,
            "_view_module": "@jupyter-widgets/base",
            "_view_module_version": "1.2.0",
            "_view_name": "StyleView",
            "description_width": ""
          }
        },
        "a3f683cebd1049bcbae43e598181aad2": {
          "model_module": "@jupyter-widgets/base",
          "model_name": "LayoutModel",
          "model_module_version": "1.2.0",
          "state": {
            "_model_module": "@jupyter-widgets/base",
            "_model_module_version": "1.2.0",
            "_model_name": "LayoutModel",
            "_view_count": null,
            "_view_module": "@jupyter-widgets/base",
            "_view_module_version": "1.2.0",
            "_view_name": "LayoutView",
            "align_content": null,
            "align_items": null,
            "align_self": null,
            "border": null,
            "bottom": null,
            "display": null,
            "flex": null,
            "flex_flow": null,
            "grid_area": null,
            "grid_auto_columns": null,
            "grid_auto_flow": null,
            "grid_auto_rows": null,
            "grid_column": null,
            "grid_gap": null,
            "grid_row": null,
            "grid_template_areas": null,
            "grid_template_columns": null,
            "grid_template_rows": null,
            "height": null,
            "justify_content": null,
            "justify_items": null,
            "left": null,
            "margin": null,
            "max_height": null,
            "max_width": null,
            "min_height": null,
            "min_width": null,
            "object_fit": null,
            "object_position": null,
            "order": null,
            "overflow": null,
            "overflow_x": null,
            "overflow_y": null,
            "padding": null,
            "right": null,
            "top": null,
            "visibility": null,
            "width": null
          }
        },
        "3921bcdf028340668e7313af2e747e40": {
          "model_module": "@jupyter-widgets/controls",
          "model_name": "ProgressStyleModel",
          "model_module_version": "1.5.0",
          "state": {
            "_model_module": "@jupyter-widgets/controls",
            "_model_module_version": "1.5.0",
            "_model_name": "ProgressStyleModel",
            "_view_count": null,
            "_view_module": "@jupyter-widgets/base",
            "_view_module_version": "1.2.0",
            "_view_name": "StyleView",
            "bar_color": null,
            "description_width": ""
          }
        },
        "21421843653d461a9d95ee3f3241621b": {
          "model_module": "@jupyter-widgets/base",
          "model_name": "LayoutModel",
          "model_module_version": "1.2.0",
          "state": {
            "_model_module": "@jupyter-widgets/base",
            "_model_module_version": "1.2.0",
            "_model_name": "LayoutModel",
            "_view_count": null,
            "_view_module": "@jupyter-widgets/base",
            "_view_module_version": "1.2.0",
            "_view_name": "LayoutView",
            "align_content": null,
            "align_items": null,
            "align_self": null,
            "border": null,
            "bottom": null,
            "display": null,
            "flex": null,
            "flex_flow": null,
            "grid_area": null,
            "grid_auto_columns": null,
            "grid_auto_flow": null,
            "grid_auto_rows": null,
            "grid_column": null,
            "grid_gap": null,
            "grid_row": null,
            "grid_template_areas": null,
            "grid_template_columns": null,
            "grid_template_rows": null,
            "height": null,
            "justify_content": null,
            "justify_items": null,
            "left": null,
            "margin": null,
            "max_height": null,
            "max_width": null,
            "min_height": null,
            "min_width": null,
            "object_fit": null,
            "object_position": null,
            "order": null,
            "overflow": null,
            "overflow_x": null,
            "overflow_y": null,
            "padding": null,
            "right": null,
            "top": null,
            "visibility": null,
            "width": null
          }
        },
        "b859cf8975074232ba766fb19cd2ba2e": {
          "model_module": "@jupyter-widgets/controls",
          "model_name": "DescriptionStyleModel",
          "model_module_version": "1.5.0",
          "state": {
            "_model_module": "@jupyter-widgets/controls",
            "_model_module_version": "1.5.0",
            "_model_name": "DescriptionStyleModel",
            "_view_count": null,
            "_view_module": "@jupyter-widgets/base",
            "_view_module_version": "1.2.0",
            "_view_name": "StyleView",
            "description_width": ""
          }
        },
        "7dc6b4c9b85541f8a42857b48de2c3ae": {
          "model_module": "@jupyter-widgets/controls",
          "model_name": "HBoxModel",
          "model_module_version": "1.5.0",
          "state": {
            "_dom_classes": [],
            "_model_module": "@jupyter-widgets/controls",
            "_model_module_version": "1.5.0",
            "_model_name": "HBoxModel",
            "_view_count": null,
            "_view_module": "@jupyter-widgets/controls",
            "_view_module_version": "1.5.0",
            "_view_name": "HBoxView",
            "box_style": "",
            "children": [
              "IPY_MODEL_e6a043613c9b4c19a9dc1a7aa9b5c1a2",
              "IPY_MODEL_537e014fb263426db731ed867b8c782c",
              "IPY_MODEL_8f32bafee4e049ab8b7b8a36115d04bc"
            ],
            "layout": "IPY_MODEL_0e9516d7db9840ebb59f936aa57fca6b"
          }
        },
        "e6a043613c9b4c19a9dc1a7aa9b5c1a2": {
          "model_module": "@jupyter-widgets/controls",
          "model_name": "HTMLModel",
          "model_module_version": "1.5.0",
          "state": {
            "_dom_classes": [],
            "_model_module": "@jupyter-widgets/controls",
            "_model_module_version": "1.5.0",
            "_model_name": "HTMLModel",
            "_view_count": null,
            "_view_module": "@jupyter-widgets/controls",
            "_view_module_version": "1.5.0",
            "_view_name": "HTMLView",
            "description": "",
            "description_tooltip": null,
            "layout": "IPY_MODEL_6895bdf14c374361b3ca97c8dcb61170",
            "placeholder": "​",
            "style": "IPY_MODEL_6bf8bd3bc9e34912818cf71a1a91f057",
            "value": "Downloading pytorch_model.bin: 100%"
          }
        },
        "537e014fb263426db731ed867b8c782c": {
          "model_module": "@jupyter-widgets/controls",
          "model_name": "FloatProgressModel",
          "model_module_version": "1.5.0",
          "state": {
            "_dom_classes": [],
            "_model_module": "@jupyter-widgets/controls",
            "_model_module_version": "1.5.0",
            "_model_name": "FloatProgressModel",
            "_view_count": null,
            "_view_module": "@jupyter-widgets/controls",
            "_view_module_version": "1.5.0",
            "_view_name": "ProgressView",
            "bar_style": "success",
            "description": "",
            "description_tooltip": null,
            "layout": "IPY_MODEL_075ce20dae7748cea571116ef5244b79",
            "max": 265486777,
            "min": 0,
            "orientation": "horizontal",
            "style": "IPY_MODEL_47f55c26cbdd4122ae770ec6a5543ad5",
            "value": 265486777
          }
        },
        "8f32bafee4e049ab8b7b8a36115d04bc": {
          "model_module": "@jupyter-widgets/controls",
          "model_name": "HTMLModel",
          "model_module_version": "1.5.0",
          "state": {
            "_dom_classes": [],
            "_model_module": "@jupyter-widgets/controls",
            "_model_module_version": "1.5.0",
            "_model_name": "HTMLModel",
            "_view_count": null,
            "_view_module": "@jupyter-widgets/controls",
            "_view_module_version": "1.5.0",
            "_view_name": "HTMLView",
            "description": "",
            "description_tooltip": null,
            "layout": "IPY_MODEL_b1ed3a42797e4efda028bd0a8f657659",
            "placeholder": "​",
            "style": "IPY_MODEL_b50edaa1c82048bba89d9a52f5b52a73",
            "value": " 265M/265M [00:03&lt;00:00, 75.3MB/s]"
          }
        },
        "0e9516d7db9840ebb59f936aa57fca6b": {
          "model_module": "@jupyter-widgets/base",
          "model_name": "LayoutModel",
          "model_module_version": "1.2.0",
          "state": {
            "_model_module": "@jupyter-widgets/base",
            "_model_module_version": "1.2.0",
            "_model_name": "LayoutModel",
            "_view_count": null,
            "_view_module": "@jupyter-widgets/base",
            "_view_module_version": "1.2.0",
            "_view_name": "LayoutView",
            "align_content": null,
            "align_items": null,
            "align_self": null,
            "border": null,
            "bottom": null,
            "display": null,
            "flex": null,
            "flex_flow": null,
            "grid_area": null,
            "grid_auto_columns": null,
            "grid_auto_flow": null,
            "grid_auto_rows": null,
            "grid_column": null,
            "grid_gap": null,
            "grid_row": null,
            "grid_template_areas": null,
            "grid_template_columns": null,
            "grid_template_rows": null,
            "height": null,
            "justify_content": null,
            "justify_items": null,
            "left": null,
            "margin": null,
            "max_height": null,
            "max_width": null,
            "min_height": null,
            "min_width": null,
            "object_fit": null,
            "object_position": null,
            "order": null,
            "overflow": null,
            "overflow_x": null,
            "overflow_y": null,
            "padding": null,
            "right": null,
            "top": null,
            "visibility": null,
            "width": null
          }
        },
        "6895bdf14c374361b3ca97c8dcb61170": {
          "model_module": "@jupyter-widgets/base",
          "model_name": "LayoutModel",
          "model_module_version": "1.2.0",
          "state": {
            "_model_module": "@jupyter-widgets/base",
            "_model_module_version": "1.2.0",
            "_model_name": "LayoutModel",
            "_view_count": null,
            "_view_module": "@jupyter-widgets/base",
            "_view_module_version": "1.2.0",
            "_view_name": "LayoutView",
            "align_content": null,
            "align_items": null,
            "align_self": null,
            "border": null,
            "bottom": null,
            "display": null,
            "flex": null,
            "flex_flow": null,
            "grid_area": null,
            "grid_auto_columns": null,
            "grid_auto_flow": null,
            "grid_auto_rows": null,
            "grid_column": null,
            "grid_gap": null,
            "grid_row": null,
            "grid_template_areas": null,
            "grid_template_columns": null,
            "grid_template_rows": null,
            "height": null,
            "justify_content": null,
            "justify_items": null,
            "left": null,
            "margin": null,
            "max_height": null,
            "max_width": null,
            "min_height": null,
            "min_width": null,
            "object_fit": null,
            "object_position": null,
            "order": null,
            "overflow": null,
            "overflow_x": null,
            "overflow_y": null,
            "padding": null,
            "right": null,
            "top": null,
            "visibility": null,
            "width": null
          }
        },
        "6bf8bd3bc9e34912818cf71a1a91f057": {
          "model_module": "@jupyter-widgets/controls",
          "model_name": "DescriptionStyleModel",
          "model_module_version": "1.5.0",
          "state": {
            "_model_module": "@jupyter-widgets/controls",
            "_model_module_version": "1.5.0",
            "_model_name": "DescriptionStyleModel",
            "_view_count": null,
            "_view_module": "@jupyter-widgets/base",
            "_view_module_version": "1.2.0",
            "_view_name": "StyleView",
            "description_width": ""
          }
        },
        "075ce20dae7748cea571116ef5244b79": {
          "model_module": "@jupyter-widgets/base",
          "model_name": "LayoutModel",
          "model_module_version": "1.2.0",
          "state": {
            "_model_module": "@jupyter-widgets/base",
            "_model_module_version": "1.2.0",
            "_model_name": "LayoutModel",
            "_view_count": null,
            "_view_module": "@jupyter-widgets/base",
            "_view_module_version": "1.2.0",
            "_view_name": "LayoutView",
            "align_content": null,
            "align_items": null,
            "align_self": null,
            "border": null,
            "bottom": null,
            "display": null,
            "flex": null,
            "flex_flow": null,
            "grid_area": null,
            "grid_auto_columns": null,
            "grid_auto_flow": null,
            "grid_auto_rows": null,
            "grid_column": null,
            "grid_gap": null,
            "grid_row": null,
            "grid_template_areas": null,
            "grid_template_columns": null,
            "grid_template_rows": null,
            "height": null,
            "justify_content": null,
            "justify_items": null,
            "left": null,
            "margin": null,
            "max_height": null,
            "max_width": null,
            "min_height": null,
            "min_width": null,
            "object_fit": null,
            "object_position": null,
            "order": null,
            "overflow": null,
            "overflow_x": null,
            "overflow_y": null,
            "padding": null,
            "right": null,
            "top": null,
            "visibility": null,
            "width": null
          }
        },
        "47f55c26cbdd4122ae770ec6a5543ad5": {
          "model_module": "@jupyter-widgets/controls",
          "model_name": "ProgressStyleModel",
          "model_module_version": "1.5.0",
          "state": {
            "_model_module": "@jupyter-widgets/controls",
            "_model_module_version": "1.5.0",
            "_model_name": "ProgressStyleModel",
            "_view_count": null,
            "_view_module": "@jupyter-widgets/base",
            "_view_module_version": "1.2.0",
            "_view_name": "StyleView",
            "bar_color": null,
            "description_width": ""
          }
        },
        "b1ed3a42797e4efda028bd0a8f657659": {
          "model_module": "@jupyter-widgets/base",
          "model_name": "LayoutModel",
          "model_module_version": "1.2.0",
          "state": {
            "_model_module": "@jupyter-widgets/base",
            "_model_module_version": "1.2.0",
            "_model_name": "LayoutModel",
            "_view_count": null,
            "_view_module": "@jupyter-widgets/base",
            "_view_module_version": "1.2.0",
            "_view_name": "LayoutView",
            "align_content": null,
            "align_items": null,
            "align_self": null,
            "border": null,
            "bottom": null,
            "display": null,
            "flex": null,
            "flex_flow": null,
            "grid_area": null,
            "grid_auto_columns": null,
            "grid_auto_flow": null,
            "grid_auto_rows": null,
            "grid_column": null,
            "grid_gap": null,
            "grid_row": null,
            "grid_template_areas": null,
            "grid_template_columns": null,
            "grid_template_rows": null,
            "height": null,
            "justify_content": null,
            "justify_items": null,
            "left": null,
            "margin": null,
            "max_height": null,
            "max_width": null,
            "min_height": null,
            "min_width": null,
            "object_fit": null,
            "object_position": null,
            "order": null,
            "overflow": null,
            "overflow_x": null,
            "overflow_y": null,
            "padding": null,
            "right": null,
            "top": null,
            "visibility": null,
            "width": null
          }
        },
        "b50edaa1c82048bba89d9a52f5b52a73": {
          "model_module": "@jupyter-widgets/controls",
          "model_name": "DescriptionStyleModel",
          "model_module_version": "1.5.0",
          "state": {
            "_model_module": "@jupyter-widgets/controls",
            "_model_module_version": "1.5.0",
            "_model_name": "DescriptionStyleModel",
            "_view_count": null,
            "_view_module": "@jupyter-widgets/base",
            "_view_module_version": "1.2.0",
            "_view_name": "StyleView",
            "description_width": ""
          }
        }
      }
    }
  },
  "cells": [
    {
      "cell_type": "markdown",
      "metadata": {
        "id": "view-in-github",
        "colab_type": "text"
      },
      "source": [
        "<a href=\"https://colab.research.google.com/github/ufukhurriyetoglu/vector-normalization-for-vector-search/blob/main/embeddings_and_similarity.ipynb\" target=\"_parent\"><img src=\"https://colab.research.google.com/assets/colab-badge.svg\" alt=\"Open In Colab\"/></a>"
      ]
    },
    {
      "cell_type": "code",
      "execution_count": 1,
      "metadata": {
        "id": "TdiWCvYYLWqR"
      },
      "outputs": [],
      "source": [
        "# 🤖 NLP With Transformers Course"
      ]
    },
    {
      "cell_type": "markdown",
      "source": [
        "Similarity and Transformers\n",
        "A big part of NLP relies on measuring similarity in highly-dimensional spaces. Many NLP solutions take some text, process it to create a big vector/array representing said text - then perform several transformations.\n",
        "\n",
        "In this section we'll cover measuring sentence similarity - a great example of how powerful simple similarity metrics can be when paired with transformers.\n",
        "\n",
        "The logic in producing a solution like this can be split into two steps:\n",
        "\n",
        "- Take sentences, convert them into vectors (using a transformer).\n",
        "\n",
        "- Use a similarity metric (more on this later) to find the closest matching sentences.\n"
      ],
      "metadata": {
        "id": "iN-qssSNL2Kz"
      }
    },
    {
      "cell_type": "markdown",
      "source": [
        "**Dense Vectors**\n",
        "\n",
        "BERT and many other transformer models are able to take text, and encode a significant amount of information into vectors which represent that text. This means that semantically similar sentences, will be represented by similar vectors.\n",
        "\n",
        "We call these vectors dense because every value within the vector has a value and has a reason for being that value - this is in contrast to sparse vectors, such as one-hot encoded vectors where the majority of values are 0. BERT is great at creating these dense vectors, and each encoder layer (there are several) outputs a set of dense vectors."
      ],
      "metadata": {
        "id": "2imo-s1vMJs3"
      }
    },
    {
      "cell_type": "markdown",
      "source": [
        "![image.png](data:image/png;base64,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)"
      ],
      "metadata": {
        "id": "L9ot5ZfGMQ2F"
      }
    },
    {
      "cell_type": "markdown",
      "source": [
        "For BERT base, this will be a vector containing 768. Those 768 values contain our numerical representation of a single token - which we can use as contextual word embeddings.\n",
        "\n",
        "Because there is one of these vectors for representing each token (output by each encoder), we are actually looking at a tensor of size 768 by the number of tokens. We can take these tensors - and transform them to create semantic representations of the input sequence. We can then take our similarity metrics and calculate the respective similarity between different sequences.\n",
        "\n",
        "The simplest and most commonly extracted tensor is the last_hidden_state tensor - which is conveniently output by the BERT model. Of course, this is a pretty large tensor - at 512x768 - and we want a vector to apply our similarity measures to it. To do this, we need to convert our last_hidden_states tensor to a vector of 768 dimensions.\n",
        "\n",
        "This compressed vector is our sentence embedding (or sentence vector) - it is this that we then take and compare to other sentence embeddings using a similarity metric (like cosine similarity - again, more on this later).\n",
        "\n",
        "After that, we're done!"
      ],
      "metadata": {
        "id": "_yx_dxe-MX10"
      }
    },
    {
      "cell_type": "markdown",
      "source": [
        "**Building Dense Vectors Using Transformers**"
      ],
      "metadata": {
        "id": "jGAUWXnZMfWB"
      }
    },
    {
      "cell_type": "markdown",
      "source": [
        "We will be using the [`sentence-transformers/stsb-distilbert-base`](https://huggingface.co/sentence-transformers/stsb-distilbert-base) model to build our dense vectors."
      ],
      "metadata": {
        "id": "OLE_EjRyMzsX"
      }
    },
    {
      "cell_type": "code",
      "source": [
        "!pip install transformers"
      ],
      "metadata": {
        "colab": {
          "base_uri": "https://localhost:8080/"
        },
        "id": "qjgyVy5lM7NR",
        "outputId": "fd7169d0-acdb-457c-85be-b22886e80c7b"
      },
      "execution_count": 4,
      "outputs": [
        {
          "output_type": "stream",
          "name": "stdout",
          "text": [
            "Collecting transformers\n",
            "  Downloading transformers-4.32.1-py3-none-any.whl (7.5 MB)\n",
            "\u001b[2K     \u001b[90m━━━━━━━━━━━━━━━━━━━━━━━━━━━━━━━━━━━━━━━━\u001b[0m \u001b[32m7.5/7.5 MB\u001b[0m \u001b[31m13.3 MB/s\u001b[0m eta \u001b[36m0:00:00\u001b[0m\n",
            "\u001b[?25hRequirement already satisfied: filelock in /usr/local/lib/python3.10/dist-packages (from transformers) (3.12.2)\n",
            "Collecting huggingface-hub<1.0,>=0.15.1 (from transformers)\n",
            "  Downloading huggingface_hub-0.16.4-py3-none-any.whl (268 kB)\n",
            "\u001b[2K     \u001b[90m━━━━━━━━━━━━━━━━━━━━━━━━━━━━━━━━━━━━━━\u001b[0m \u001b[32m268.8/268.8 kB\u001b[0m \u001b[31m23.0 MB/s\u001b[0m eta \u001b[36m0:00:00\u001b[0m\n",
            "\u001b[?25hRequirement already satisfied: numpy>=1.17 in /usr/local/lib/python3.10/dist-packages (from transformers) (1.23.5)\n",
            "Requirement already satisfied: packaging>=20.0 in /usr/local/lib/python3.10/dist-packages (from transformers) (23.1)\n",
            "Requirement already satisfied: pyyaml>=5.1 in /usr/local/lib/python3.10/dist-packages (from transformers) (6.0.1)\n",
            "Requirement already satisfied: regex!=2019.12.17 in /usr/local/lib/python3.10/dist-packages (from transformers) (2023.6.3)\n",
            "Requirement already satisfied: requests in /usr/local/lib/python3.10/dist-packages (from transformers) (2.31.0)\n",
            "Collecting tokenizers!=0.11.3,<0.14,>=0.11.1 (from transformers)\n",
            "  Downloading tokenizers-0.13.3-cp310-cp310-manylinux_2_17_x86_64.manylinux2014_x86_64.whl (7.8 MB)\n",
            "\u001b[2K     \u001b[90m━━━━━━━━━━━━━━━━━━━━━━━━━━━━━━━━━━━━━━━━\u001b[0m \u001b[32m7.8/7.8 MB\u001b[0m \u001b[31m34.9 MB/s\u001b[0m eta \u001b[36m0:00:00\u001b[0m\n",
            "\u001b[?25hCollecting safetensors>=0.3.1 (from transformers)\n",
            "  Downloading safetensors-0.3.3-cp310-cp310-manylinux_2_17_x86_64.manylinux2014_x86_64.whl (1.3 MB)\n",
            "\u001b[2K     \u001b[90m━━━━━━━━━━━━━━━━━━━━━━━━━━━━━━━━━━━━━━━━\u001b[0m \u001b[32m1.3/1.3 MB\u001b[0m \u001b[31m41.2 MB/s\u001b[0m eta \u001b[36m0:00:00\u001b[0m\n",
            "\u001b[?25hRequirement already satisfied: tqdm>=4.27 in /usr/local/lib/python3.10/dist-packages (from transformers) (4.66.1)\n",
            "Requirement already satisfied: fsspec in /usr/local/lib/python3.10/dist-packages (from huggingface-hub<1.0,>=0.15.1->transformers) (2023.6.0)\n",
            "Requirement already satisfied: typing-extensions>=3.7.4.3 in /usr/local/lib/python3.10/dist-packages (from huggingface-hub<1.0,>=0.15.1->transformers) (4.7.1)\n",
            "Requirement already satisfied: charset-normalizer<4,>=2 in /usr/local/lib/python3.10/dist-packages (from requests->transformers) (3.2.0)\n",
            "Requirement already satisfied: idna<4,>=2.5 in /usr/local/lib/python3.10/dist-packages (from requests->transformers) (3.4)\n",
            "Requirement already satisfied: urllib3<3,>=1.21.1 in /usr/local/lib/python3.10/dist-packages (from requests->transformers) (2.0.4)\n",
            "Requirement already satisfied: certifi>=2017.4.17 in /usr/local/lib/python3.10/dist-packages (from requests->transformers) (2023.7.22)\n",
            "Installing collected packages: tokenizers, safetensors, huggingface-hub, transformers\n",
            "Successfully installed huggingface-hub-0.16.4 safetensors-0.3.3 tokenizers-0.13.3 transformers-4.32.1\n"
          ]
        }
      ]
    },
    {
      "cell_type": "code",
      "source": [
        "from transformers import AutoTokenizer, AutoModel\n",
        "import torch"
      ],
      "metadata": {
        "id": "hulo95lrMqF_"
      },
      "execution_count": 5,
      "outputs": []
    },
    {
      "cell_type": "markdown",
      "source": [
        "First we initialize our model and tokenizer:"
      ],
      "metadata": {
        "id": "1hUx5CMKNTda"
      }
    },
    {
      "cell_type": "code",
      "source": [
        "tokenizer = AutoTokenizer.from_pretrained('sentence-transformers/stsb-distilbert-base')\n",
        "model = AutoModel.from_pretrained('sentence-transformers/stsb-distilbert-base')"
      ],
      "metadata": {
        "colab": {
          "base_uri": "https://localhost:8080/",
          "height": 209,
          "referenced_widgets": [
            "bedd70b7073049e8bed1ff14a842c3e2",
            "638e98a6d7014a94a4d86e2cb6dbfbc3",
            "0293abade70f4989bdb973537e255b08",
            "b72c1482675c46cf96b1fafe18a096cc",
            "5a41a5ecbbe94460900959765eac34e6",
            "5a0b82647827424193a38dea388644a6",
            "e338a6a129754b149e3d8d94c529799d",
            "5bc23327124541129c298f7754e3b382",
            "347299eed12a44ca84ca838ee5890f2d",
            "4e79770338924313b4f17a7cc8e4548a",
            "4c0b2c4afda0432fb8ea164b10798832",
            "fe63eafe0ab7418e9bfe6ff3b7829a96",
            "0708641c8a1d446b97ae9979d3fd2c78",
            "75b66614f6c0406189082f82c9a7f9dd",
            "8f7d06496d124199bb17efa4ef6322b0",
            "1769debdac964361a816a06a17c682bb",
            "24aed78a7220405cbf1b5a3ee71acfa6",
            "edf22f6b0a094c119b93f69bcb594fd8",
            "f54e7af4b9c8485da67b79f9fab6d7c1",
            "f8e688f9a54c4145b8d7efc0d8a51d18",
            "1c18f062017d4faaa96eb697d48428a6",
            "2900ae30cbb4472787f654c84918b999",
            "15dbc65ac45c45a5a86ab396d55b4726",
            "e56cfe777fbc436687a2f3a7f2e7fdc5",
            "6a512bd19ed44875bc0dd54db3ff56a1",
            "d2c728cdb7274c78a3f3fdc3d94ac641",
            "c5fac785b86c4a2782fabb585ff577e6",
            "bc0e981dfa9844cf811d17d8997f1271",
            "0f6a24b362b543c5874af659197afb38",
            "3948b42506b449eab738165c0ca750de",
            "bafdffeab50740c294bb1b9cd5b54ebc",
            "4036ca8729554679ad2a33728981a2be",
            "c1efe703d0ce4bbab274b61881455ad7",
            "7e1f528e034f4e05b626965e80f40f1d",
            "40db4eb007154a48a149e38583786e69",
            "1a31ad1af9d5449b8591ccd38deb6e53",
            "28fb8226e72442b6826c09cc11eb7ada",
            "78c6e8c4d2fb431ebe071602086d3894",
            "ea772212618b4334ba1ddc65cddd00cf",
            "6ca6179c36d943e8bbb4f2932ed97f8a",
            "bd6fffd731aa43b990c83dd28d86fe4d",
            "f232686525f94240a707e9e40017cc82",
            "75dab51906074c098725c28c171c47e1",
            "749356112c604f4fa4c0d75cb1096f72",
            "fa5e74fada534840a6882f5d381587a1",
            "f83fc5cfdd014b2d8418b9ec0597a70c",
            "a0459b060e3a4096aebf6bc8b642e9a5",
            "1ff521bd1e9e4caca2036a9b8015c946",
            "5162e9173eaf42f0a7b4753d948b5e4d",
            "493aa65b79ab4697b9b0877f39ac8a57",
            "f54626a4ad034428a41e34896a1e37c3",
            "a3f683cebd1049bcbae43e598181aad2",
            "3921bcdf028340668e7313af2e747e40",
            "21421843653d461a9d95ee3f3241621b",
            "b859cf8975074232ba766fb19cd2ba2e",
            "7dc6b4c9b85541f8a42857b48de2c3ae",
            "e6a043613c9b4c19a9dc1a7aa9b5c1a2",
            "537e014fb263426db731ed867b8c782c",
            "8f32bafee4e049ab8b7b8a36115d04bc",
            "0e9516d7db9840ebb59f936aa57fca6b",
            "6895bdf14c374361b3ca97c8dcb61170",
            "6bf8bd3bc9e34912818cf71a1a91f057",
            "075ce20dae7748cea571116ef5244b79",
            "47f55c26cbdd4122ae770ec6a5543ad5",
            "b1ed3a42797e4efda028bd0a8f657659",
            "b50edaa1c82048bba89d9a52f5b52a73"
          ]
        },
        "id": "EQK4pJ0DM41t",
        "outputId": "d4323387-b3c3-4199-898b-d6033ab8b6db"
      },
      "execution_count": 6,
      "outputs": [
        {
          "output_type": "display_data",
          "data": {
            "text/plain": [
              "Downloading (…)okenizer_config.json:   0%|          | 0.00/489 [00:00<?, ?B/s]"
            ],
            "application/vnd.jupyter.widget-view+json": {
              "version_major": 2,
              "version_minor": 0,
              "model_id": "bedd70b7073049e8bed1ff14a842c3e2"
            }
          },
          "metadata": {}
        },
        {
          "output_type": "display_data",
          "data": {
            "text/plain": [
              "Downloading (…)lve/main/config.json:   0%|          | 0.00/539 [00:00<?, ?B/s]"
            ],
            "application/vnd.jupyter.widget-view+json": {
              "version_major": 2,
              "version_minor": 0,
              "model_id": "fe63eafe0ab7418e9bfe6ff3b7829a96"
            }
          },
          "metadata": {}
        },
        {
          "output_type": "display_data",
          "data": {
            "text/plain": [
              "Downloading (…)solve/main/vocab.txt:   0%|          | 0.00/232k [00:00<?, ?B/s]"
            ],
            "application/vnd.jupyter.widget-view+json": {
              "version_major": 2,
              "version_minor": 0,
              "model_id": "15dbc65ac45c45a5a86ab396d55b4726"
            }
          },
          "metadata": {}
        },
        {
          "output_type": "display_data",
          "data": {
            "text/plain": [
              "Downloading (…)/main/tokenizer.json:   0%|          | 0.00/466k [00:00<?, ?B/s]"
            ],
            "application/vnd.jupyter.widget-view+json": {
              "version_major": 2,
              "version_minor": 0,
              "model_id": "7e1f528e034f4e05b626965e80f40f1d"
            }
          },
          "metadata": {}
        },
        {
          "output_type": "display_data",
          "data": {
            "text/plain": [
              "Downloading (…)cial_tokens_map.json:   0%|          | 0.00/112 [00:00<?, ?B/s]"
            ],
            "application/vnd.jupyter.widget-view+json": {
              "version_major": 2,
              "version_minor": 0,
              "model_id": "fa5e74fada534840a6882f5d381587a1"
            }
          },
          "metadata": {}
        },
        {
          "output_type": "display_data",
          "data": {
            "text/plain": [
              "Downloading pytorch_model.bin:   0%|          | 0.00/265M [00:00<?, ?B/s]"
            ],
            "application/vnd.jupyter.widget-view+json": {
              "version_major": 2,
              "version_minor": 0,
              "model_id": "7dc6b4c9b85541f8a42857b48de2c3ae"
            }
          },
          "metadata": {}
        }
      ]
    },
    {
      "cell_type": "markdown",
      "source": [
        "Then we tokenize a sentence just as we have been doing before:"
      ],
      "metadata": {
        "id": "GqI97WMpNaU1"
      }
    },
    {
      "cell_type": "code",
      "source": [
        "text = \"hello world what a time to be alive!\"\n",
        "\n",
        "tokens = tokenizer.encode_plus(text, max_length=128,\n",
        "                               truncation=True, padding='max_length',\n",
        "                               return_tensors='pt')"
      ],
      "metadata": {
        "id": "G2l10CymNNZd"
      },
      "execution_count": 7,
      "outputs": []
    },
    {
      "cell_type": "code",
      "source": [
        "tokens.keys()"
      ],
      "metadata": {
        "colab": {
          "base_uri": "https://localhost:8080/"
        },
        "id": "j9hLg3ApNekc",
        "outputId": "eb85a59e-608e-44cd-980f-b1379ca799a8"
      },
      "execution_count": 9,
      "outputs": [
        {
          "output_type": "execute_result",
          "data": {
            "text/plain": [
              "dict_keys(['input_ids', 'attention_mask'])"
            ]
          },
          "metadata": {},
          "execution_count": 9
        }
      ]
    },
    {
      "cell_type": "code",
      "source": [
        "tokens[\"input_ids\"]"
      ],
      "metadata": {
        "colab": {
          "base_uri": "https://localhost:8080/"
        },
        "id": "wdWP8PKCNlFd",
        "outputId": "ccee8b01-d839-4a4f-8004-31ac4de71f37"
      },
      "execution_count": 10,
      "outputs": [
        {
          "output_type": "execute_result",
          "data": {
            "text/plain": [
              "tensor([[ 101, 7592, 2088, 2054, 1037, 2051, 2000, 2022, 4142,  999,  102,    0,\n",
              "            0,    0,    0,    0,    0,    0,    0,    0,    0,    0,    0,    0,\n",
              "            0,    0,    0,    0,    0,    0,    0,    0,    0,    0,    0,    0,\n",
              "            0,    0,    0,    0,    0,    0,    0,    0,    0,    0,    0,    0,\n",
              "            0,    0,    0,    0,    0,    0,    0,    0,    0,    0,    0,    0,\n",
              "            0,    0,    0,    0,    0,    0,    0,    0,    0,    0,    0,    0,\n",
              "            0,    0,    0,    0,    0,    0,    0,    0,    0,    0,    0,    0,\n",
              "            0,    0,    0,    0,    0,    0,    0,    0,    0,    0,    0,    0,\n",
              "            0,    0,    0,    0,    0,    0,    0,    0,    0,    0,    0,    0,\n",
              "            0,    0,    0,    0,    0,    0,    0,    0,    0,    0,    0,    0,\n",
              "            0,    0,    0,    0,    0,    0,    0,    0]])"
            ]
          },
          "metadata": {},
          "execution_count": 10
        }
      ]
    },
    {
      "cell_type": "code",
      "source": [
        "tokens[\"attention_mask\"]"
      ],
      "metadata": {
        "colab": {
          "base_uri": "https://localhost:8080/"
        },
        "id": "svEdjFgINsp0",
        "outputId": "db700045-5f63-4ac3-93b3-fb577c43e7ae"
      },
      "execution_count": 11,
      "outputs": [
        {
          "output_type": "execute_result",
          "data": {
            "text/plain": [
              "tensor([[1, 1, 1, 1, 1, 1, 1, 1, 1, 1, 1, 0, 0, 0, 0, 0, 0, 0, 0, 0, 0, 0, 0, 0,\n",
              "         0, 0, 0, 0, 0, 0, 0, 0, 0, 0, 0, 0, 0, 0, 0, 0, 0, 0, 0, 0, 0, 0, 0, 0,\n",
              "         0, 0, 0, 0, 0, 0, 0, 0, 0, 0, 0, 0, 0, 0, 0, 0, 0, 0, 0, 0, 0, 0, 0, 0,\n",
              "         0, 0, 0, 0, 0, 0, 0, 0, 0, 0, 0, 0, 0, 0, 0, 0, 0, 0, 0, 0, 0, 0, 0, 0,\n",
              "         0, 0, 0, 0, 0, 0, 0, 0, 0, 0, 0, 0, 0, 0, 0, 0, 0, 0, 0, 0, 0, 0, 0, 0,\n",
              "         0, 0, 0, 0, 0, 0, 0, 0]])"
            ]
          },
          "metadata": {},
          "execution_count": 11
        }
      ]
    },
    {
      "cell_type": "markdown",
      "source": [
        "We process these tokens through our model:"
      ],
      "metadata": {
        "id": "35DTLaIJN3jt"
      }
    },
    {
      "cell_type": "code",
      "source": [
        "outputs = model(**tokens)\n",
        "outputs"
      ],
      "metadata": {
        "colab": {
          "base_uri": "https://localhost:8080/"
        },
        "id": "4rBMKslPNyiN",
        "outputId": "7e87e226-5dd8-49a1-b3b8-2b1a5f8f8cbe"
      },
      "execution_count": 12,
      "outputs": [
        {
          "output_type": "execute_result",
          "data": {
            "text/plain": [
              "BaseModelOutput(last_hidden_state=tensor([[[-0.9489,  0.6905, -0.2188,  ...,  0.0161,  0.5874, -0.1449],\n",
              "         [-0.6643,  1.1984, -0.1346,  ...,  0.4839,  0.6338, -0.5003],\n",
              "         [-0.3289,  0.6412,  0.2473,  ..., -0.0965,  0.4298,  0.0515],\n",
              "         ...,\n",
              "         [-0.7853,  0.8094, -0.2639,  ...,  0.2177,  0.3335,  0.1107],\n",
              "         [-0.7528,  0.6285, -0.0088,  ...,  0.1024,  0.4585,  0.1720],\n",
              "         [-1.0754,  0.4878, -0.3458,  ...,  0.2764,  0.5604,  0.1236]]],\n",
              "       grad_fn=<NativeLayerNormBackward0>), hidden_states=None, attentions=None)"
            ]
          },
          "metadata": {},
          "execution_count": 12
        }
      ]
    },
    {
      "cell_type": "markdown",
      "source": [
        "The dense vector representations of our text are contained within the outputs 'last_hidden_state' tensor, which we access like so:"
      ],
      "metadata": {
        "id": "b3YdxRLgOGa8"
      }
    },
    {
      "cell_type": "code",
      "source": [
        "embeddings = outputs.last_hidden_state\n",
        "embeddings"
      ],
      "metadata": {
        "colab": {
          "base_uri": "https://localhost:8080/"
        },
        "id": "pDwlhfrDN_Y9",
        "outputId": "7d7daf08-9460-4e62-897c-057de72a8bcb"
      },
      "execution_count": 13,
      "outputs": [
        {
          "output_type": "execute_result",
          "data": {
            "text/plain": [
              "tensor([[[-0.9489,  0.6905, -0.2188,  ...,  0.0161,  0.5874, -0.1449],\n",
              "         [-0.6643,  1.1984, -0.1346,  ...,  0.4839,  0.6338, -0.5003],\n",
              "         [-0.3289,  0.6412,  0.2473,  ..., -0.0965,  0.4298,  0.0515],\n",
              "         ...,\n",
              "         [-0.7853,  0.8094, -0.2639,  ...,  0.2177,  0.3335,  0.1107],\n",
              "         [-0.7528,  0.6285, -0.0088,  ...,  0.1024,  0.4585,  0.1720],\n",
              "         [-1.0754,  0.4878, -0.3458,  ...,  0.2764,  0.5604,  0.1236]]],\n",
              "       grad_fn=<NativeLayerNormBackward0>)"
            ]
          },
          "metadata": {},
          "execution_count": 13
        }
      ]
    },
    {
      "cell_type": "code",
      "source": [
        "embeddings.shape"
      ],
      "metadata": {
        "colab": {
          "base_uri": "https://localhost:8080/"
        },
        "id": "ktPnZoQ9OJ_M",
        "outputId": "ff004993-c3a6-4142-dba8-c9388012ec52"
      },
      "execution_count": 14,
      "outputs": [
        {
          "output_type": "execute_result",
          "data": {
            "text/plain": [
              "torch.Size([1, 128, 768])"
            ]
          },
          "metadata": {},
          "execution_count": 14
        }
      ]
    },
    {
      "cell_type": "markdown",
      "source": [
        "After we have produced our dense vectors `embeddings`, we need to perform a mean pooling operation on them to create a single vector encoding (the **sentence embedding**). To do this mean pooling operation we will need to multiply each value in our `embeddings` tensor by it's respective `attention_mask` value - so that we ignore non-real tokens.\n",
        "\n",
        "To perform this operation, we first resize our `attention_mask` tensor:"
      ],
      "metadata": {
        "id": "cdnz2bnuOZGy"
      }
    },
    {
      "cell_type": "code",
      "source": [
        "attention_mask = tokens['attention_mask']\n",
        "attention_mask.shape"
      ],
      "metadata": {
        "colab": {
          "base_uri": "https://localhost:8080/"
        },
        "id": "1zkTFFCUONec",
        "outputId": "71799373-ea00-4992-b06d-43be089001fb"
      },
      "execution_count": 15,
      "outputs": [
        {
          "output_type": "execute_result",
          "data": {
            "text/plain": [
              "torch.Size([1, 128])"
            ]
          },
          "metadata": {},
          "execution_count": 15
        }
      ]
    },
    {
      "cell_type": "code",
      "source": [
        "mask = attention_mask.unsqueeze(-1).expand(embeddings.size()).float()\n",
        "mask.shape"
      ],
      "metadata": {
        "colab": {
          "base_uri": "https://localhost:8080/"
        },
        "id": "OE5d5bJgO_42",
        "outputId": "a03bb944-573e-4939-ba24-44aaa514cc6d"
      },
      "execution_count": 16,
      "outputs": [
        {
          "output_type": "execute_result",
          "data": {
            "text/plain": [
              "torch.Size([1, 128, 768])"
            ]
          },
          "metadata": {},
          "execution_count": 16
        }
      ]
    },
    {
      "cell_type": "code",
      "source": [
        "attention_mask"
      ],
      "metadata": {
        "colab": {
          "base_uri": "https://localhost:8080/"
        },
        "id": "uFNl9h3XPCtU",
        "outputId": "b8347f0c-d1ce-4807-f104-8a71e3890c2f"
      },
      "execution_count": 17,
      "outputs": [
        {
          "output_type": "execute_result",
          "data": {
            "text/plain": [
              "tensor([[1, 1, 1, 1, 1, 1, 1, 1, 1, 1, 1, 0, 0, 0, 0, 0, 0, 0, 0, 0, 0, 0, 0, 0,\n",
              "         0, 0, 0, 0, 0, 0, 0, 0, 0, 0, 0, 0, 0, 0, 0, 0, 0, 0, 0, 0, 0, 0, 0, 0,\n",
              "         0, 0, 0, 0, 0, 0, 0, 0, 0, 0, 0, 0, 0, 0, 0, 0, 0, 0, 0, 0, 0, 0, 0, 0,\n",
              "         0, 0, 0, 0, 0, 0, 0, 0, 0, 0, 0, 0, 0, 0, 0, 0, 0, 0, 0, 0, 0, 0, 0, 0,\n",
              "         0, 0, 0, 0, 0, 0, 0, 0, 0, 0, 0, 0, 0, 0, 0, 0, 0, 0, 0, 0, 0, 0, 0, 0,\n",
              "         0, 0, 0, 0, 0, 0, 0, 0]])"
            ]
          },
          "metadata": {},
          "execution_count": 17
        }
      ]
    },
    {
      "cell_type": "code",
      "source": [
        "mask[0][0].shape"
      ],
      "metadata": {
        "colab": {
          "base_uri": "https://localhost:8080/"
        },
        "id": "zUP-DORJPH0s",
        "outputId": "dc5f6f74-34db-4000-f0a1-40a968e63d7a"
      },
      "execution_count": 18,
      "outputs": [
        {
          "output_type": "execute_result",
          "data": {
            "text/plain": [
              "torch.Size([768])"
            ]
          },
          "metadata": {},
          "execution_count": 18
        }
      ]
    },
    {
      "cell_type": "code",
      "source": [
        "mask"
      ],
      "metadata": {
        "colab": {
          "base_uri": "https://localhost:8080/"
        },
        "id": "ZVD3j2eoPMCW",
        "outputId": "d5c4858c-e180-46a7-9033-703292912e06"
      },
      "execution_count": 19,
      "outputs": [
        {
          "output_type": "execute_result",
          "data": {
            "text/plain": [
              "tensor([[[1., 1., 1.,  ..., 1., 1., 1.],\n",
              "         [1., 1., 1.,  ..., 1., 1., 1.],\n",
              "         [1., 1., 1.,  ..., 1., 1., 1.],\n",
              "         ...,\n",
              "         [0., 0., 0.,  ..., 0., 0., 0.],\n",
              "         [0., 0., 0.,  ..., 0., 0., 0.],\n",
              "         [0., 0., 0.,  ..., 0., 0., 0.]]])"
            ]
          },
          "metadata": {},
          "execution_count": 19
        }
      ]
    },
    {
      "cell_type": "markdown",
      "source": [
        "Each vector above represents a single token attention mask - each token now has a vector of size 768 representing it's attention_mask status. Then we multiply the two tensors to apply the attention mask:"
      ],
      "metadata": {
        "id": "7kreYrSvPSVL"
      }
    },
    {
      "cell_type": "code",
      "source": [
        "masked_embeddings = embeddings * mask\n",
        "masked_embeddings.shape"
      ],
      "metadata": {
        "colab": {
          "base_uri": "https://localhost:8080/"
        },
        "id": "G4Gqf9FGPOZF",
        "outputId": "e9b26515-74a5-46f7-85b8-1de6d5219bf5"
      },
      "execution_count": 20,
      "outputs": [
        {
          "output_type": "execute_result",
          "data": {
            "text/plain": [
              "torch.Size([1, 128, 768])"
            ]
          },
          "metadata": {},
          "execution_count": 20
        }
      ]
    },
    {
      "cell_type": "code",
      "source": [
        "masked_embeddings"
      ],
      "metadata": {
        "colab": {
          "base_uri": "https://localhost:8080/"
        },
        "id": "cCcs25YtPVLV",
        "outputId": "3a23044b-ab55-44d1-e33b-6e937fc74f0d"
      },
      "execution_count": 21,
      "outputs": [
        {
          "output_type": "execute_result",
          "data": {
            "text/plain": [
              "tensor([[[-0.9489,  0.6905, -0.2188,  ...,  0.0161,  0.5874, -0.1449],\n",
              "         [-0.6643,  1.1984, -0.1346,  ...,  0.4839,  0.6338, -0.5003],\n",
              "         [-0.3289,  0.6412,  0.2473,  ..., -0.0965,  0.4298,  0.0515],\n",
              "         ...,\n",
              "         [-0.0000,  0.0000, -0.0000,  ...,  0.0000,  0.0000,  0.0000],\n",
              "         [-0.0000,  0.0000, -0.0000,  ...,  0.0000,  0.0000,  0.0000],\n",
              "         [-0.0000,  0.0000, -0.0000,  ...,  0.0000,  0.0000,  0.0000]]],\n",
              "       grad_fn=<MulBackward0>)"
            ]
          },
          "metadata": {},
          "execution_count": 21
        }
      ]
    },
    {
      "cell_type": "markdown",
      "source": [
        "\n",
        "Then we sum the remained of the embeddings along axis 1:"
      ],
      "metadata": {
        "id": "7pjCZjcHPfrN"
      }
    },
    {
      "cell_type": "code",
      "source": [
        "summed = torch.sum(masked_embeddings, 1)\n",
        "summed.shape"
      ],
      "metadata": {
        "colab": {
          "base_uri": "https://localhost:8080/"
        },
        "id": "u4rpMi8aPXnt",
        "outputId": "8a89826c-a6f9-43d8-d7f7-357803eb51ac"
      },
      "execution_count": 22,
      "outputs": [
        {
          "output_type": "execute_result",
          "data": {
            "text/plain": [
              "torch.Size([1, 768])"
            ]
          },
          "metadata": {},
          "execution_count": 22
        }
      ]
    },
    {
      "cell_type": "markdown",
      "source": [
        "Then sum the number of values that must be given attention in each position of the tensor:"
      ],
      "metadata": {
        "id": "JEZIWO04PjOM"
      }
    },
    {
      "cell_type": "code",
      "source": [
        "summed_mask = torch.clamp(mask.sum(1), min=1e-9)\n",
        "summed_mask.shape"
      ],
      "metadata": {
        "colab": {
          "base_uri": "https://localhost:8080/"
        },
        "id": "Ej0cVt2LPbiF",
        "outputId": "3e02761e-8791-42ff-e270-9f741c540d8a"
      },
      "execution_count": 23,
      "outputs": [
        {
          "output_type": "execute_result",
          "data": {
            "text/plain": [
              "torch.Size([1, 768])"
            ]
          },
          "metadata": {},
          "execution_count": 23
        }
      ]
    },
    {
      "cell_type": "code",
      "source": [
        "summed_mask"
      ],
      "metadata": {
        "colab": {
          "base_uri": "https://localhost:8080/"
        },
        "id": "lhKaD6D1PmP-",
        "outputId": "9ec9111d-20ae-45a9-9400-cc640cf98e31"
      },
      "execution_count": 24,
      "outputs": [
        {
          "output_type": "execute_result",
          "data": {
            "text/plain": [
              "tensor([[11., 11., 11., 11., 11., 11., 11., 11., 11., 11., 11., 11., 11., 11.,\n",
              "         11., 11., 11., 11., 11., 11., 11., 11., 11., 11., 11., 11., 11., 11.,\n",
              "         11., 11., 11., 11., 11., 11., 11., 11., 11., 11., 11., 11., 11., 11.,\n",
              "         11., 11., 11., 11., 11., 11., 11., 11., 11., 11., 11., 11., 11., 11.,\n",
              "         11., 11., 11., 11., 11., 11., 11., 11., 11., 11., 11., 11., 11., 11.,\n",
              "         11., 11., 11., 11., 11., 11., 11., 11., 11., 11., 11., 11., 11., 11.,\n",
              "         11., 11., 11., 11., 11., 11., 11., 11., 11., 11., 11., 11., 11., 11.,\n",
              "         11., 11., 11., 11., 11., 11., 11., 11., 11., 11., 11., 11., 11., 11.,\n",
              "         11., 11., 11., 11., 11., 11., 11., 11., 11., 11., 11., 11., 11., 11.,\n",
              "         11., 11., 11., 11., 11., 11., 11., 11., 11., 11., 11., 11., 11., 11.,\n",
              "         11., 11., 11., 11., 11., 11., 11., 11., 11., 11., 11., 11., 11., 11.,\n",
              "         11., 11., 11., 11., 11., 11., 11., 11., 11., 11., 11., 11., 11., 11.,\n",
              "         11., 11., 11., 11., 11., 11., 11., 11., 11., 11., 11., 11., 11., 11.,\n",
              "         11., 11., 11., 11., 11., 11., 11., 11., 11., 11., 11., 11., 11., 11.,\n",
              "         11., 11., 11., 11., 11., 11., 11., 11., 11., 11., 11., 11., 11., 11.,\n",
              "         11., 11., 11., 11., 11., 11., 11., 11., 11., 11., 11., 11., 11., 11.,\n",
              "         11., 11., 11., 11., 11., 11., 11., 11., 11., 11., 11., 11., 11., 11.,\n",
              "         11., 11., 11., 11., 11., 11., 11., 11., 11., 11., 11., 11., 11., 11.,\n",
              "         11., 11., 11., 11., 11., 11., 11., 11., 11., 11., 11., 11., 11., 11.,\n",
              "         11., 11., 11., 11., 11., 11., 11., 11., 11., 11., 11., 11., 11., 11.,\n",
              "         11., 11., 11., 11., 11., 11., 11., 11., 11., 11., 11., 11., 11., 11.,\n",
              "         11., 11., 11., 11., 11., 11., 11., 11., 11., 11., 11., 11., 11., 11.,\n",
              "         11., 11., 11., 11., 11., 11., 11., 11., 11., 11., 11., 11., 11., 11.,\n",
              "         11., 11., 11., 11., 11., 11., 11., 11., 11., 11., 11., 11., 11., 11.,\n",
              "         11., 11., 11., 11., 11., 11., 11., 11., 11., 11., 11., 11., 11., 11.,\n",
              "         11., 11., 11., 11., 11., 11., 11., 11., 11., 11., 11., 11., 11., 11.,\n",
              "         11., 11., 11., 11., 11., 11., 11., 11., 11., 11., 11., 11., 11., 11.,\n",
              "         11., 11., 11., 11., 11., 11., 11., 11., 11., 11., 11., 11., 11., 11.,\n",
              "         11., 11., 11., 11., 11., 11., 11., 11., 11., 11., 11., 11., 11., 11.,\n",
              "         11., 11., 11., 11., 11., 11., 11., 11., 11., 11., 11., 11., 11., 11.,\n",
              "         11., 11., 11., 11., 11., 11., 11., 11., 11., 11., 11., 11., 11., 11.,\n",
              "         11., 11., 11., 11., 11., 11., 11., 11., 11., 11., 11., 11., 11., 11.,\n",
              "         11., 11., 11., 11., 11., 11., 11., 11., 11., 11., 11., 11., 11., 11.,\n",
              "         11., 11., 11., 11., 11., 11., 11., 11., 11., 11., 11., 11., 11., 11.,\n",
              "         11., 11., 11., 11., 11., 11., 11., 11., 11., 11., 11., 11., 11., 11.,\n",
              "         11., 11., 11., 11., 11., 11., 11., 11., 11., 11., 11., 11., 11., 11.,\n",
              "         11., 11., 11., 11., 11., 11., 11., 11., 11., 11., 11., 11., 11., 11.,\n",
              "         11., 11., 11., 11., 11., 11., 11., 11., 11., 11., 11., 11., 11., 11.,\n",
              "         11., 11., 11., 11., 11., 11., 11., 11., 11., 11., 11., 11., 11., 11.,\n",
              "         11., 11., 11., 11., 11., 11., 11., 11., 11., 11., 11., 11., 11., 11.,\n",
              "         11., 11., 11., 11., 11., 11., 11., 11., 11., 11., 11., 11., 11., 11.,\n",
              "         11., 11., 11., 11., 11., 11., 11., 11., 11., 11., 11., 11., 11., 11.,\n",
              "         11., 11., 11., 11., 11., 11., 11., 11., 11., 11., 11., 11., 11., 11.,\n",
              "         11., 11., 11., 11., 11., 11., 11., 11., 11., 11., 11., 11., 11., 11.,\n",
              "         11., 11., 11., 11., 11., 11., 11., 11., 11., 11., 11., 11., 11., 11.,\n",
              "         11., 11., 11., 11., 11., 11., 11., 11., 11., 11., 11., 11., 11., 11.,\n",
              "         11., 11., 11., 11., 11., 11., 11., 11., 11., 11., 11., 11., 11., 11.,\n",
              "         11., 11., 11., 11., 11., 11., 11., 11., 11., 11., 11., 11., 11., 11.,\n",
              "         11., 11., 11., 11., 11., 11., 11., 11., 11., 11., 11., 11., 11., 11.,\n",
              "         11., 11., 11., 11., 11., 11., 11., 11., 11., 11., 11., 11., 11., 11.,\n",
              "         11., 11., 11., 11., 11., 11., 11., 11., 11., 11., 11., 11., 11., 11.,\n",
              "         11., 11., 11., 11., 11., 11., 11., 11., 11., 11., 11., 11., 11., 11.,\n",
              "         11., 11., 11., 11., 11., 11., 11., 11., 11., 11., 11., 11., 11., 11.,\n",
              "         11., 11., 11., 11., 11., 11., 11., 11., 11., 11., 11., 11., 11., 11.,\n",
              "         11., 11., 11., 11., 11., 11., 11., 11., 11., 11., 11., 11.]])"
            ]
          },
          "metadata": {},
          "execution_count": 24
        }
      ]
    },
    {
      "cell_type": "markdown",
      "source": [
        "Finally, we calculate the mean as the sum of the embedding activations summed divided by the number of values that should be given attention in each position summed_mask:"
      ],
      "metadata": {
        "id": "_kWWRM26PwgL"
      }
    },
    {
      "cell_type": "code",
      "source": [
        "mean_pooled = summed / summed_mask"
      ],
      "metadata": {
        "id": "F8pIjCbbPrCV"
      },
      "execution_count": 25,
      "outputs": []
    },
    {
      "cell_type": "code",
      "source": [
        "mean_pooled"
      ],
      "metadata": {
        "colab": {
          "base_uri": "https://localhost:8080/"
        },
        "id": "eZ1wuCC8Pzln",
        "outputId": "aa2a8f87-5209-4a06-e93d-d56889fe185a"
      },
      "execution_count": 26,
      "outputs": [
        {
          "output_type": "execute_result",
          "data": {
            "text/plain": [
              "tensor([[-3.8485e-01,  7.8107e-01, -1.7720e-01, -1.4125e+00, -2.3358e-01,\n",
              "          9.0891e-01, -7.8390e-02,  6.0347e-01,  6.7886e-02, -3.9841e-01,\n",
              "          3.9223e-02, -4.6774e-01, -7.1848e-01, -1.1863e-01, -7.1194e-02,\n",
              "          6.6017e-03, -1.4093e-01,  3.1271e-01, -6.5574e-01, -1.6470e-01,\n",
              "         -1.0026e-01, -3.8357e-01,  6.1278e-02, -7.3818e-01, -5.9918e-01,\n",
              "          2.8855e-01,  8.6372e-01,  5.8388e-01, -3.5058e-02,  4.3197e-01,\n",
              "         -5.0111e-01, -4.3498e-01,  2.3498e-01, -3.7127e-01, -1.0044e+00,\n",
              "          1.0000e+00, -2.1000e+00, -3.2251e-01, -1.6085e-01, -7.3701e-01,\n",
              "          5.4928e-01, -1.2066e-01,  7.2698e-01, -5.0328e-02, -1.7545e+00,\n",
              "          8.0573e-01, -5.0553e-01, -4.7172e-01, -1.6727e-01,  5.9727e-01,\n",
              "          5.6203e-01, -3.6104e-01, -1.6429e-01, -5.5215e-01, -5.0418e-01,\n",
              "          5.6187e-01, -1.1415e+00,  1.0771e+00,  5.5689e-01, -7.0632e-02,\n",
              "         -2.6932e-01, -6.8905e-01,  1.8093e-01,  3.1045e-01,  3.9036e-02,\n",
              "          3.1064e-01, -4.4495e-01, -4.7363e-02,  1.7010e+00,  1.2346e-01,\n",
              "          6.7439e-01, -6.4171e-01,  4.6369e-01, -1.0917e+00, -7.6344e-01,\n",
              "         -3.0914e-01, -3.0577e-01,  7.6974e-01, -1.3508e+00, -2.3315e-01,\n",
              "         -3.3893e-01, -7.1898e-01, -1.4306e-01,  5.6030e-01, -6.8665e-01,\n",
              "         -6.2314e-01, -1.6671e-01,  4.8549e-01, -4.1270e-01,  1.0744e+00,\n",
              "          7.6589e-01,  3.2901e-01,  3.7139e-01,  4.4882e-01,  9.8538e-01,\n",
              "          2.9093e-01, -8.5644e-01, -7.6587e-01,  3.4619e-01,  1.7652e-01,\n",
              "          7.8148e-02, -2.3852e-01,  7.3973e-01, -3.3606e-01, -1.3271e-01,\n",
              "         -3.0366e-02,  9.4191e-01, -9.6432e-02, -4.2533e-01, -3.6001e-01,\n",
              "          4.0952e-01, -3.5570e-01, -6.1359e-01,  1.0244e+00, -1.6946e-01,\n",
              "          5.8016e-01, -3.5626e-01, -1.8950e-01, -1.3671e+00, -4.2409e-02,\n",
              "          7.6267e-01, -3.8510e-01, -4.4530e-01,  6.0831e-01, -3.5163e-01,\n",
              "         -3.1655e-01,  5.4221e-01, -4.2779e-02,  1.8298e+00, -5.0056e-02,\n",
              "          4.0329e-01,  3.8894e-01, -1.4479e-01, -5.0510e-01,  4.9653e-01,\n",
              "          2.2225e-01, -1.7006e-01,  1.6015e-01, -5.6461e-01, -6.1269e-01,\n",
              "          6.5336e-01,  7.9370e-01, -1.3359e-01, -2.9642e-01,  6.5500e-01,\n",
              "          4.5574e-01,  1.3022e-01,  8.5983e-01,  9.5493e-02, -4.1140e-01,\n",
              "         -6.0792e-01, -6.8995e-01, -8.0654e-01, -3.3334e-01, -6.1655e-01,\n",
              "         -6.7164e-01, -7.9168e-01, -6.0887e-01, -6.7842e-01,  7.7270e-01,\n",
              "         -1.8380e-01,  4.2945e-01,  8.2487e-01, -3.1597e-01, -1.6402e+00,\n",
              "          8.4033e-01,  6.2706e-01,  4.5629e-01,  3.6232e-01, -4.5201e-01,\n",
              "         -1.8216e-02,  6.0874e-02, -7.5308e-01,  1.0445e+00, -1.2082e+00,\n",
              "         -3.3916e-01,  5.6531e-01, -8.5100e-01, -3.4787e-01,  1.2856e-01,\n",
              "         -5.8088e-01, -5.2811e-01, -1.2420e-02,  6.3881e-02, -6.7477e-02,\n",
              "         -1.7361e-01,  7.0940e-01, -1.4097e+00, -1.3953e-01, -1.9912e-01,\n",
              "          4.7711e-01,  8.0363e-01,  3.7343e-01, -5.2863e-01,  3.9637e-01,\n",
              "          9.4878e-01,  1.2467e-01, -1.7886e-01,  7.9958e-01,  3.6675e-02,\n",
              "          3.2056e-01,  1.0148e+00,  6.4841e-01, -1.6269e-01,  3.3561e-01,\n",
              "         -5.0149e-01,  2.4113e-01, -8.9913e-01, -1.2511e-01, -3.3696e-01,\n",
              "          3.0698e-01, -2.2303e-01, -3.8996e-01, -2.8901e-01, -3.8460e-01,\n",
              "          8.8542e-01, -1.6964e-01,  2.4618e-01, -8.4116e-01, -3.2811e-01,\n",
              "         -3.2727e-01, -2.2229e-02,  4.5131e-01, -4.1267e-01,  9.1945e-01,\n",
              "         -6.3390e-01,  9.4229e-01,  1.3876e-01, -2.5901e-02, -4.5191e-01,\n",
              "          5.7051e-02,  2.4740e-01, -5.7986e-01,  7.7694e-02,  7.6411e-02,\n",
              "         -3.4006e-01,  4.3327e-01, -3.9236e-01,  4.5135e-01, -5.3925e-01,\n",
              "         -5.7638e-01, -5.1190e-01, -2.4838e-02, -2.9940e-01, -2.6119e-01,\n",
              "         -6.8237e-01, -1.0826e-01,  2.7870e-01,  5.2347e-01, -1.2790e+00,\n",
              "         -7.5903e-01, -4.1540e-01,  2.7823e-01,  1.2852e-01,  7.8037e-01,\n",
              "         -8.0996e-01, -7.2413e-01, -8.6791e-01, -8.5757e-01,  1.7594e-01,\n",
              "          4.0083e-01, -7.3397e-01,  3.9002e-01,  1.1243e-01,  1.2089e-01,\n",
              "         -1.0793e-01,  1.1323e-01, -2.7789e-01, -7.9838e-03,  2.1982e-02,\n",
              "         -8.3703e-01,  3.4330e-01,  1.3543e-01,  5.7925e-02,  1.9617e+00,\n",
              "          8.3412e-01, -7.2922e-01,  4.6160e-01, -3.0357e-01, -3.4166e-01,\n",
              "         -6.9856e-01,  9.4906e-02, -1.1436e+00,  4.2823e-02, -3.4008e-01,\n",
              "          1.7994e-01, -6.0481e-01, -9.6435e-01, -4.9273e-01, -1.3865e-01,\n",
              "         -1.5011e+00,  3.8161e-01, -3.7843e-01, -2.7537e-01,  8.0851e-02,\n",
              "          3.0396e-01,  6.3915e-03, -1.0301e+00, -7.4074e-01,  6.2466e-02,\n",
              "          2.3288e-01, -9.3533e-01,  1.0078e-01, -1.2119e+00, -6.6829e-01,\n",
              "         -5.5835e-02, -9.2504e-02, -4.9092e-01,  1.1554e-01,  4.5436e-01,\n",
              "          1.2235e+00,  5.7517e-01, -1.0007e+00,  6.2173e-01, -6.6874e-02,\n",
              "          1.2660e+00,  4.9329e-01, -1.5459e-01,  9.2993e-02, -5.6999e-02,\n",
              "         -2.8558e-02,  5.2734e-01, -3.0664e-01, -8.0383e-01, -1.6655e-01,\n",
              "         -5.5859e-01, -5.1713e-01,  4.6910e-02, -1.1429e+00, -1.6247e-01,\n",
              "         -1.2338e-01, -3.4689e-01, -3.5227e-01, -3.8736e-01,  1.0393e+00,\n",
              "         -1.6471e-01, -1.3882e-01,  9.1784e-01, -7.2758e-01, -1.5185e-01,\n",
              "          2.8702e-01, -2.0967e-01,  5.5545e-01,  1.8944e-01, -5.0340e-01,\n",
              "         -1.0897e+00, -7.5433e-01, -1.3625e+00, -3.8772e-02, -7.7702e-01,\n",
              "          2.5420e-01,  3.1660e-01, -8.6211e-01, -2.3615e-01,  4.6482e-03,\n",
              "          5.1776e-01,  4.7276e-01, -7.3881e-02, -5.5788e-01,  2.4043e-01,\n",
              "          9.5054e-01,  2.6624e-02, -4.6603e-01, -3.3385e-01,  4.4900e-01,\n",
              "          1.1014e+00,  5.9350e-01, -1.2061e-01,  2.1053e-01,  7.3098e-01,\n",
              "         -2.3733e-02,  2.6349e-01,  3.3863e-01,  5.9553e-01, -3.3448e-01,\n",
              "          1.2544e-01,  3.3026e-01, -1.5698e-01, -3.7931e-01, -2.5078e-01,\n",
              "         -2.9495e-01,  8.2592e-02,  1.8376e-01, -6.8231e-01, -8.6328e-02,\n",
              "         -5.7801e-01, -8.4704e-02, -1.4150e-01,  9.1605e-01, -5.6759e-01,\n",
              "         -1.0993e-01, -1.5896e-02,  6.2933e-01,  2.1628e-01,  1.1261e-01,\n",
              "          6.5828e-01,  4.5636e-01,  1.0936e+00,  7.4275e-01, -3.7315e-01,\n",
              "          3.7326e-01,  1.0809e+00, -2.4348e-01, -4.9122e-01,  1.1691e+00,\n",
              "          1.0116e+00, -2.2179e-01, -8.4003e-02,  4.4811e-01,  8.3704e-01,\n",
              "         -1.4922e-01, -7.3480e-02,  2.8369e-01,  5.3243e-01,  3.5503e-02,\n",
              "         -7.2948e-01,  2.2285e-01, -8.1695e-01, -9.8309e-02,  1.6787e-02,\n",
              "         -1.0060e+00,  5.8846e-02, -1.1733e-01, -2.5028e-03,  9.7850e-01,\n",
              "          4.2993e-01,  5.5168e-01,  7.5765e-01,  4.1643e-01, -7.7879e-01,\n",
              "          6.5853e-01, -2.7104e-01, -2.1195e-01,  2.6836e-01,  8.9253e-02,\n",
              "         -2.2026e-01,  7.0055e-01, -5.0542e-01, -9.2811e-01,  2.8497e-01,\n",
              "         -3.2909e-01,  9.0162e-01,  5.6190e-01,  3.8479e-02,  7.6101e-01,\n",
              "         -2.4245e-02, -5.2505e-01,  4.9243e-01, -1.1323e+00, -7.9397e-02,\n",
              "          8.9293e-01, -4.1039e-01, -4.2587e-01,  5.6288e-01, -3.1121e-01,\n",
              "         -5.0377e-02, -7.7956e-01,  7.0310e-01, -1.1243e-01,  3.1637e-01,\n",
              "          1.5981e-01, -9.6211e-03, -1.0382e+00, -1.8745e-03, -9.9495e-02,\n",
              "         -1.5131e+00,  7.5718e-01, -7.7794e-02,  1.0319e+00,  5.2133e-01,\n",
              "         -3.2082e-01, -1.3737e-01,  1.0844e+00, -3.7648e-01, -3.4650e-02,\n",
              "          1.3097e-01, -3.5184e-01, -8.1428e-01,  3.4189e-01,  6.7282e-02,\n",
              "         -1.9175e-01,  2.2250e-01,  4.0790e-01, -4.0172e-02,  9.3394e-01,\n",
              "          1.4848e-01,  9.4150e-02, -6.1521e-01,  1.8073e-01, -9.3871e-01,\n",
              "         -3.5805e-01, -1.1437e-01,  9.8406e-01, -1.3756e+00,  9.7455e-02,\n",
              "         -2.3249e-01,  9.5018e-01, -2.1394e-01, -2.3394e-01,  5.0237e-01,\n",
              "          2.5898e-01, -2.2813e-01, -2.3680e-01, -2.3152e-01, -9.8057e-01,\n",
              "          3.9108e-01,  5.8315e-01,  1.6551e-01, -3.6449e-01,  4.2075e-01,\n",
              "          9.3581e-01, -4.6776e-01, -2.2666e-02,  3.7928e-01, -6.1125e-01,\n",
              "         -4.0730e-01,  9.0755e-01,  1.0523e+00, -1.9673e-01, -6.0428e-02,\n",
              "         -5.5663e-02,  3.8640e-01, -1.2758e-01,  6.1613e-01, -3.9228e-01,\n",
              "          9.0591e-01, -4.3536e-01, -7.4162e-02,  1.0847e-01, -6.4019e-02,\n",
              "          6.2278e-01,  3.7997e-01, -1.1579e-01, -1.9312e+00,  7.1141e-01,\n",
              "          1.1751e-01, -4.1557e-01, -7.7247e-01,  6.3692e-01,  5.3097e-01,\n",
              "          9.7168e-02, -6.8854e-02, -8.8752e-01,  4.2003e-01,  1.4736e-01,\n",
              "          4.4949e-01,  1.0757e-01,  8.5666e-01,  2.1895e-01, -1.4616e-01,\n",
              "         -2.1148e-01,  7.3091e-02,  5.6748e-01,  3.9416e-01,  2.8382e-02,\n",
              "          1.0420e+00, -9.9249e-02, -5.5125e-01,  7.3611e-02,  1.1771e+00,\n",
              "         -5.5362e-01, -1.0581e-01, -4.2232e-01, -1.5856e+00,  7.3779e-01,\n",
              "         -1.4219e-01, -1.0619e+00, -6.8308e-01,  1.3318e-02,  4.1730e-01,\n",
              "         -1.1350e+00,  2.5110e-01,  4.9541e-01,  1.0239e-01, -7.1889e-01,\n",
              "          1.0615e-01,  7.6836e-01, -6.0917e-02, -3.6846e-01,  5.1104e-02,\n",
              "         -6.9368e-01, -1.6377e-01,  7.2992e-01, -2.7181e-01, -1.7474e-01,\n",
              "          6.6675e-01, -2.4677e-01, -2.8554e-01, -7.7832e-02,  8.7495e-02,\n",
              "          2.1369e-01,  8.7279e-01, -9.8811e-02, -5.0639e-01, -4.2866e-01,\n",
              "         -5.1867e-01,  4.2720e-01,  3.1696e-01, -2.9805e-01, -8.3426e-01,\n",
              "         -1.0784e+00, -7.7276e-01,  4.9140e-01,  1.1272e+00,  1.3698e-02,\n",
              "         -6.8531e-02, -1.1509e-01, -6.5638e-01,  7.9699e-01, -2.6068e-01,\n",
              "          1.0395e+00, -4.7972e-01, -1.4439e-01,  7.8087e-01, -5.9054e-01,\n",
              "          2.1602e-01, -7.4450e-01, -1.3328e-01, -1.4614e-01,  8.9815e-01,\n",
              "         -1.0125e+00, -6.5561e-01,  7.6670e-01, -2.8419e-01, -1.3880e-01,\n",
              "         -7.1945e-01, -5.1779e-01,  1.4314e-01, -2.3534e-01, -5.9846e-01,\n",
              "          6.0434e-02, -6.3186e-02, -1.5664e+00, -1.9544e-01,  2.0409e-01,\n",
              "         -1.0337e+00,  9.1216e-01,  2.3952e-01,  1.0881e-01, -2.0045e-01,\n",
              "          8.4616e-01, -7.5020e-02,  3.4787e-01, -1.5094e+00, -2.5039e-01,\n",
              "         -6.5036e-02,  6.9634e-01, -2.6770e-01,  8.9710e-02, -4.8853e-01,\n",
              "          7.0874e-01, -7.6796e-01,  8.4987e-01,  4.1382e-01, -4.0460e-01,\n",
              "          2.8681e-01,  1.0482e+00,  1.6342e-01,  8.9449e-02, -2.9139e-01,\n",
              "         -6.0596e-01, -1.0153e-01, -3.3035e-01, -4.3888e-01, -6.9056e-02,\n",
              "          5.0943e-02,  3.7704e-01,  6.6890e-02,  5.8372e-01,  3.2395e-01,\n",
              "         -2.4983e-01, -2.9541e-01,  3.7929e-01, -3.1190e-01, -1.3260e-01,\n",
              "          5.0000e-01,  6.4270e-01, -3.0923e-01, -2.9641e-01, -8.8432e-01,\n",
              "          4.0610e-01,  6.5061e-01, -1.2178e-02,  1.1644e+00, -5.9447e-01,\n",
              "         -1.8064e-01,  6.1685e-01, -1.1272e-01, -6.0815e-01, -7.2103e-01,\n",
              "          7.6628e-01, -3.2992e-01, -5.0286e-01,  5.1562e-01, -4.1571e-01,\n",
              "         -4.7703e-01, -2.8721e-01,  8.4478e-01, -3.9162e-01,  9.2312e-02,\n",
              "          7.8206e-01,  2.1263e-01, -6.4606e-01,  9.6211e-01,  1.2251e-01,\n",
              "         -9.9896e-01,  1.4946e-01, -2.5206e-01, -3.9582e-01,  8.5691e-01,\n",
              "          3.5398e-01, -8.7718e-01,  2.3607e-01, -2.1513e-01, -6.1426e-01,\n",
              "         -1.4891e-01,  4.2167e-01, -9.3733e-01,  7.1058e-01, -1.5226e-01,\n",
              "          1.3321e+00,  1.2884e-01,  1.4089e-01,  6.7874e-01, -5.8004e-01,\n",
              "          1.5258e-01,  5.5926e-01, -1.4397e-01, -3.4066e-01, -6.2638e-01,\n",
              "          1.5209e-01,  1.1089e-01,  6.4280e-02,  5.5102e-01, -1.1813e-01,\n",
              "         -4.6605e-01,  3.0925e-01, -3.5231e-01,  4.1569e-01,  1.4494e+00,\n",
              "         -3.5271e-01, -9.2626e-01, -3.0457e-01, -2.8597e-01, -4.8825e-01,\n",
              "         -2.0081e-01,  6.2256e-02, -6.3340e-01,  4.3752e-02,  3.5119e-01,\n",
              "          7.5687e-01, -3.1523e-01,  2.9945e-01, -7.5232e-01,  1.2727e-01,\n",
              "         -5.1653e-01, -1.7894e-02,  4.0687e-01, -1.9404e-01,  3.7166e-01,\n",
              "          6.0207e-01,  9.7962e-01,  1.3890e-01,  6.2343e-01,  4.1314e-01,\n",
              "          4.1372e-01,  5.6574e-01, -4.6809e-01]], grad_fn=<DivBackward0>)"
            ]
          },
          "metadata": {},
          "execution_count": 26
        }
      ]
    },
    {
      "cell_type": "code",
      "source": [],
      "metadata": {
        "id": "ZzGBPLj1P19m"
      },
      "execution_count": null,
      "outputs": []
    }
  ]
}