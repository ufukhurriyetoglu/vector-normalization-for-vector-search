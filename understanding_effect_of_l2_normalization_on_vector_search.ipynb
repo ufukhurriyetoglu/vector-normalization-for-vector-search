{
  "nbformat": 4,
  "nbformat_minor": 0,
  "metadata": {
    "colab": {
      "provenance": [],
      "authorship_tag": "ABX9TyNR45AJ4/hvzJFsH+M1qCyT",
      "include_colab_link": true
    },
    "kernelspec": {
      "name": "python3",
      "display_name": "Python 3"
    },
    "language_info": {
      "name": "python"
    }
  },
  "cells": [
    {
      "cell_type": "markdown",
      "metadata": {
        "id": "view-in-github",
        "colab_type": "text"
      },
      "source": [
        "<a href=\"https://colab.research.google.com/github/ufukhurriyetoglu/vector-normalization-for-vector-search/blob/main/understanding_effect_of_l2_normalization_on_vector_search.ipynb\" target=\"_parent\"><img src=\"https://colab.research.google.com/assets/colab-badge.svg\" alt=\"Open In Colab\"/></a>"
      ]
    },
    {
      "cell_type": "code",
      "execution_count": 11,
      "metadata": {
        "id": "tbKdQzQrh_UD"
      },
      "outputs": [],
      "source": [
        "import pandas as pd\n",
        "import numpy as np"
      ]
    },
    {
      "cell_type": "markdown",
      "source": [
        "# What is Vector Search ?\n",
        "\n",
        "## Generic Definition of a Vector\n",
        "\n",
        "A vector is a list of items, a list of 3 apples, 4 oranges, and 2 strawberries for example.\n",
        "\n",
        "fruit_vector -> [apple, apple, apple, orange, orange, orange, orange, strawberry, strawberry]\n",
        "\n",
        "\n",
        "\n"
      ],
      "metadata": {
        "id": "nQI4RHhHo2HE"
      }
    },
    {
      "cell_type": "code",
      "source": [
        "fruit_vector = [\"apple\", \"apple\", \"apple\", \"orange\", \"orange\", \"orange\", \"orange\", \"strawberry\", \"strawberry\"]"
      ],
      "metadata": {
        "id": "2DHZ1GH2oyG5"
      },
      "execution_count": 12,
      "outputs": []
    },
    {
      "cell_type": "markdown",
      "source": [
        "Let's transform this vector to count vector of items where each column holds\n",
        "count of each fruit:"
      ],
      "metadata": {
        "id": "R9ua7sZJrGBN"
      }
    },
    {
      "cell_type": "code",
      "source": [
        "fruit_df = pd.DataFrame([[3, 4, 2]], columns = [\"apple\", \"orange\", \"strawberry\"])"
      ],
      "metadata": {
        "id": "tdFiNAOGpF4g"
      },
      "execution_count": 14,
      "outputs": []
    },
    {
      "cell_type": "markdown",
      "source": [
        "Here the first of the table is the count vector:"
      ],
      "metadata": {
        "id": "Dm1u3Vx3rdza"
      }
    },
    {
      "cell_type": "code",
      "source": [
        "fruit_df.iloc[0].to_numpy()"
      ],
      "metadata": {
        "colab": {
          "base_uri": "https://localhost:8080/"
        },
        "id": "3pMVnBhJrowg",
        "outputId": "8d7b0938-6c2d-454f-bdce-7adb0fc87934"
      },
      "execution_count": 17,
      "outputs": [
        {
          "output_type": "execute_result",
          "data": {
            "text/plain": [
              "array([3, 4, 2])"
            ]
          },
          "metadata": {},
          "execution_count": 17
        }
      ]
    },
    {
      "cell_type": "markdown",
      "source": [
        "## Vector Representation\n",
        "\n",
        "In real life AI applications, especially considering search applications over unstructured data, first we convert the unstructured data to vector of numeric values, and then index properly to later\n",
        "search for input queries to find the closest matches.\n",
        "\n",
        "There are several techniques to vectorize the data lets start with the simplest one which is count vectorization.\n",
        "\n",
        "## Count Vectorization\n",
        "\n",
        "Consider the text: `I love text representations because they make vector search possible and more efficient. How lucky I am :)`\n"
      ],
      "metadata": {
        "id": "yXh4j7wsmZfa"
      }
    },
    {
      "cell_type": "markdown",
      "source": [],
      "metadata": {
        "id": "GTSeKUi9mZn9"
      }
    }
  ]
}