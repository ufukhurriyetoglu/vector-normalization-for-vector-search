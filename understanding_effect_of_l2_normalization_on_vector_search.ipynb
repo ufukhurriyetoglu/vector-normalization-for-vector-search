{
  "nbformat": 4,
  "nbformat_minor": 0,
  "metadata": {
    "colab": {
      "provenance": [],
      "authorship_tag": "ABX9TyPq4fOvFUCDunEpBbImalHh",
      "include_colab_link": true
    },
    "kernelspec": {
      "name": "python3",
      "display_name": "Python 3"
    },
    "language_info": {
      "name": "python"
    }
  },
  "cells": [
    {
      "cell_type": "markdown",
      "metadata": {
        "id": "view-in-github",
        "colab_type": "text"
      },
      "source": [
        "<a href=\"https://colab.research.google.com/github/ufukhurriyetoglu/vector-normalization-for-vector-search/blob/main/understanding_effect_of_l2_normalization_on_vector_search.ipynb\" target=\"_parent\"><img src=\"https://colab.research.google.com/assets/colab-badge.svg\" alt=\"Open In Colab\"/></a>"
      ]
    },
    {
      "cell_type": "markdown",
      "source": [
        "# Understanding effect of l2_normalization on Vector Search"
      ],
      "metadata": {
        "id": "rMkhj0YYeIBb"
      }
    },
    {
      "cell_type": "code",
      "source": [
        "import pandas as pd\n",
        "import numpy as np\n",
        "\n",
        "%matplotlib inline\n",
        "import numpy as np\n",
        "import matplotlib.pyplot as plt\n",
        "from mpl_toolkits import mplot3d\n",
        "from sklearn.decomposition import PCA"
      ],
      "metadata": {
        "id": "1y7S8wDNeHTh"
      },
      "execution_count": null,
      "outputs": []
    },
    {
      "cell_type": "markdown",
      "source": [],
      "metadata": {
        "id": "UGnHLlSnd-74"
      }
    },
    {
      "cell_type": "markdown",
      "source": [
        "# What is Vector Search ?\n",
        "\n",
        "## Definition of a Vector\n",
        "\n",
        "A vector is a list of items, a list of 3 apples, 4 oranges, and 2 strawberries for example.\n",
        "\n",
        "fruit_vector -> [apple, apple, apple, orange, orange, orange, orange, strawberry, strawberry]\n",
        "\n",
        "\n",
        "\n"
      ],
      "metadata": {
        "id": "nQI4RHhHo2HE"
      }
    },
    {
      "cell_type": "code",
      "source": [
        "fruit_vector = [\"apple\", \"apple\", \"apple\", \"orange\", \"orange\", \"orange\", \"orange\", \"strawberry\", \"strawberry\"]"
      ],
      "metadata": {
        "id": "2DHZ1GH2oyG5"
      },
      "execution_count": 2,
      "outputs": []
    },
    {
      "cell_type": "markdown",
      "source": [],
      "metadata": {
        "id": "i1CaYxWzd9vh"
      }
    },
    {
      "cell_type": "markdown",
      "source": [
        "Let's transform this vector to count vector of items where each column holds\n",
        "count of each fruit:"
      ],
      "metadata": {
        "id": "R9ua7sZJrGBN"
      }
    },
    {
      "cell_type": "code",
      "source": [
        "fruit_df = pd.DataFrame([[3, 4, 2]], columns = [\"apple\", \"orange\", \"strawberry\"])"
      ],
      "metadata": {
        "id": "tdFiNAOGpF4g"
      },
      "execution_count": 3,
      "outputs": []
    },
    {
      "cell_type": "markdown",
      "source": [
        "Here the first of the table is the count vector:"
      ],
      "metadata": {
        "id": "Dm1u3Vx3rdza"
      }
    },
    {
      "cell_type": "code",
      "source": [
        "fruit_df.iloc[0].to_numpy()"
      ],
      "metadata": {
        "colab": {
          "base_uri": "https://localhost:8080/"
        },
        "id": "3pMVnBhJrowg",
        "outputId": "0087a3ce-a4a3-475c-8753-d2538b202987"
      },
      "execution_count": 4,
      "outputs": [
        {
          "output_type": "execute_result",
          "data": {
            "text/plain": [
              "array([3, 4, 2])"
            ]
          },
          "metadata": {},
          "execution_count": 4
        }
      ]
    },
    {
      "cell_type": "markdown",
      "source": [
        "# Visualizing Vectors"
      ],
      "metadata": {
        "id": "FNuTPQdQYQY6"
      }
    },
    {
      "cell_type": "code",
      "source": [
        "def two_d_vector_space(reduced_dims):\n",
        "    colors = (\"red\", \"green\", \"blue\", \"orange\")\n",
        "    groups = (\"P\", \"Q\", \"U\", \"V\")\n",
        "\n",
        "    fig = plt.figure()\n",
        "    ax = fig.add_subplot(1, 1, 1)\n",
        "\n",
        "    # We need to create spines in order to have a centered axis\n",
        "    ax.spines['left'].set_position('center')\n",
        "    ax.spines['bottom'].set_position('center')\n",
        "\n",
        "    # Hide part of the border by setting colour to none\n",
        "    ax.spines['right'].set_color('none')\n",
        "    ax.spines['top'].set_color('none')\n",
        "\n",
        "    # Do not show ticks on both sides of the axis\n",
        "    ax.xaxis.set_ticks_position('bottom')\n",
        "    ax.yaxis.set_ticks_position('left')\n",
        "\n",
        "    # Set a limit so there is some room for the points\n",
        "    plt.xlim(-4, 4)\n",
        "    plt.ylim(-4, 4)\n",
        "\n",
        "    # Go through each set of points and plot them on a scatter plot\n",
        "    for data, color, group in zip(reduced_dims, colors, groups):\n",
        "        x, y = data\n",
        "        ax.scatter(x, y, alpha=0.8, c=color, edgecolors='none', s=30, label=group)\n",
        "\n",
        "    plt.title('2D vector space')\n",
        "    plt.legend(loc=2)\n",
        "    plt.show()\n",
        "\n",
        "def vector_space(a, b, c):\n",
        "    p = np.array(a)\n",
        "    q = np.array(b)\n",
        "    v = np.array(c)\n",
        "    points = np.vstack((p, q, v))\n",
        "    two_d_vector_space(points)\n"
      ],
      "metadata": {
        "id": "HuLQCEM5YPNJ"
      },
      "execution_count": 17,
      "outputs": []
    },
    {
      "cell_type": "code",
      "source": [
        "vector_space([3, 2], [1,3], [2.8, 1.9])"
      ],
      "metadata": {
        "id": "GG5Zbu4EYjaS",
        "outputId": "f4d6a364-f344-4855-a07f-8aa7f5ef7635",
        "colab": {
          "base_uri": "https://localhost:8080/",
          "height": 437
        }
      },
      "execution_count": 18,
      "outputs": [
        {
          "output_type": "display_data",
          "data": {
            "text/plain": [
              "<Figure size 640x480 with 1 Axes>"
            ],
            "image/png": "[encoded data removed]"
          },
          "metadata": {}
        }
      ]
    },
    {
      "cell_type": "markdown",
      "source": [
        "## Visualizing three vectors with same unit vector but in different scales (magnitudes)"
      ],
      "metadata": {
        "id": "noDPh3ZhZQfU"
      }
    },
    {
      "cell_type": "code",
      "source": [
        "vector_space([0.6, 0.8], [0.3, 0.4], [0.9, 0.12])"
      ],
      "metadata": {
        "id": "v3uM_SRNZPkR",
        "outputId": "b71a5f69-542c-488e-e7e4-e6fb1fe0ffd3",
        "colab": {
          "base_uri": "https://localhost:8080/",
          "height": 437
        }
      },
      "execution_count": 20,
      "outputs": [
        {
          "output_type": "display_data",
          "data": {
            "text/plain": [
              "<Figure size 640x480 with 1 Axes>"
            ],
            "image/png": "[encoded data removed]"
          },
          "metadata": {}
        }
      ]
    },
    {
      "cell_type": "markdown",
      "source": [
        "# Vector Similarity\n",
        "\n",
        "After transforming the available data we will be able to check similarity of different data points\n",
        "by leveraging the vector similarity approaches. This will enable us to develop recommender systems,\n",
        "search systems, or help us better understand data features to train better ML models in terms of generalizations\n",
        "abnd robustness."
      ],
      "metadata": {
        "id": "9SsNOH2lbEGM"
      }
    },
    {
      "cell_type": "code",
      "source": [
        "\n"
      ],
      "metadata": {
        "id": "zomkiBjTYqXP"
      },
      "execution_count": 21,
      "outputs": []
    },
    {
      "cell_type": "code",
      "source": [],
      "metadata": {
        "id": "dqSnS7LOaXPk"
      },
      "execution_count": null,
      "outputs": []
    },
    {
      "cell_type": "markdown",
      "source": [
        "## Vector Representation\n",
        "\n",
        "In real life AI applications, especially considering search applications over unstructured data, first we convert the unstructured data to vector of numeric values, and then index properly to later\n",
        "search for input queries to find the closest matches.\n",
        "\n",
        "There are several techniques to vectorize the data lets start with the simplest one which is count vectorization.\n",
        "\n",
        "## Count Vectorization\n",
        "\n",
        "Consider the text: `I love text representations because they make vector search possible and more efficient. How lucky I am :)`\n"
      ],
      "metadata": {
        "id": "yXh4j7wsmZfa"
      }
    },
    {
      "cell_type": "markdown",
      "source": [],
      "metadata": {
        "id": "GTSeKUi9mZn9"
      }
    }
  ]
}